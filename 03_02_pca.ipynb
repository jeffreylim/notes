{
 "cells": [
  {
   "cell_type": "markdown",
   "metadata": {},
   "source": [
    "<div class=\"alert alert-block alert-danger\">\n",
    "    \n",
    "### Notes\n",
    "\n",
    "</div>\n",
    "\n",
    "### Principal Component Analysis, Numerical python, $ \\ldots $."
   ]
  },
  {
   "cell_type": "markdown",
   "metadata": {},
   "source": [
    "***\n",
    "\n",
    "Let $ \\mathbf{X} \\in \\mathbb{R}^{n \\times p} $\n",
    "\n",
    "Centering: $ \\mathbf{Z} := \\mathbf{X}_{i,j} - \\bar{\\mathbf{X}}_{j} $\n",
    "\n",
    "Standardization: $ \\mathbf{Z} := \\frac{\\mathbf{X}_{i,j} - \\bar{\\mathbf{X}}_{j}}{\\mathbf{\\S}_{j}} $\n",
    "\n",
    "Generate covariance matrix: $ \\mathbf{\\Sigma}_{x} \\in \\mathbb{R}^{p \\times p} $\n",
    "\n",
    "$\\Sigma_{z}$ the covariance matrix for the standardized data $ \\mathbf{Z} $ is equal to the correlation matrix for the unstandardized data $ \\mathbf{X} $.\n",
    "\n",
    "Let $\\{\\lambda_i\\}_{i=1}^{p}$ be the eigenvalues and $\\mathbf{P} \\in \\mathbb{R}^{p \\times p}$ be the eigenvectors of $ \\mathbf{\\Sigma}  $ :\n",
    "\n",
    "Let $ \\mathbf{P}^{\\prime} $ be the matrix of eigenvectors, sorted in descending order of $\\{ \\lambda_j \\}_{j \\in [1, p]}$.\n",
    "\n",
    "Projection: $ \\mathbf{X}^{\\prime} := \\mathbf{X} \\mathbf{P}^{\\prime} $\n",
    "\n",
    "-  First Principal Component\n",
    "    -  maximum variance subject to the constraint that the sum of the squared coefficients is equal to one.\n",
    "-  Second Principal Component\n",
    "    -  second highest variance subject to the constraint that the sums of squared coefficients add up to one and the correlation between the first and second component is 0.\n",
    "-  i-th Principal Component\n",
    "    -  i-th highest varhiance subject to the constraint that the sums of squared coefficients add up to one and that this new component is uncorrelated with all the previously defined components.\n",
    "\n",
    "Selection:\n",
    "-  Proportion of variance: $\\frac{v_i}{\\sum_{\\forall_{i \\in P}} v_i}$\n",
    "-  Scree plot.\n",
    "\n",
    "***"
   ]
  },
  {
   "cell_type": "markdown",
   "metadata": {},
   "source": [
    "<div class=\"alert alert-block alert-danger\">\n",
    "numpy.linalg's eigenvectors are column-based. v[:,i] is the eigenvector corresponding to the eigenvalue w[i].\n",
    "\n",
    "sklearn.PCA's eigenvectors are row-based. v[i,:] is the eigenvector corresponding to the eigenvalue w[i].\n",
    "</div>\n",
    "\n",
    "***"
   ]
  },
  {
   "cell_type": "code",
   "execution_count": 1,
   "metadata": {},
   "outputs": [],
   "source": [
    "%matplotlib inline"
   ]
  },
  {
   "cell_type": "code",
   "execution_count": 2,
   "metadata": {},
   "outputs": [],
   "source": [
    "import numpy as np\n",
    "import pandas as pd\n",
    "import matplotlib.pyplot as plt\n",
    "import seaborn as sns"
   ]
  },
  {
   "cell_type": "code",
   "execution_count": 3,
   "metadata": {},
   "outputs": [],
   "source": [
    "import warnings\n",
    "warnings.filterwarnings('ignore')\n",
    "\n",
    "plt.close('all')\n",
    "np.random.seed(1234)"
   ]
  },
  {
   "cell_type": "code",
   "execution_count": 4,
   "metadata": {},
   "outputs": [],
   "source": [
    "from sklearn import datasets\n",
    "from sklearn.metrics import confusion_matrix\n",
    "from sklearn.preprocessing import StandardScaler\n",
    "from sklearn.decomposition import PCA\n",
    "\n",
    "from sklearn.discriminant_analysis import QuadraticDiscriminantAnalysis"
   ]
  },
  {
   "cell_type": "code",
   "execution_count": 5,
   "metadata": {},
   "outputs": [
    {
     "data": {
      "text/html": [
       "<div>\n",
       "<style scoped>\n",
       "    .dataframe tbody tr th:only-of-type {\n",
       "        vertical-align: middle;\n",
       "    }\n",
       "\n",
       "    .dataframe tbody tr th {\n",
       "        vertical-align: top;\n",
       "    }\n",
       "\n",
       "    .dataframe thead th {\n",
       "        text-align: right;\n",
       "    }\n",
       "</style>\n",
       "<table border=\"1\" class=\"dataframe\">\n",
       "  <thead>\n",
       "    <tr style=\"text-align: right;\">\n",
       "      <th></th>\n",
       "      <th>sepal length (cm)</th>\n",
       "      <th>sepal width (cm)</th>\n",
       "      <th>petal length (cm)</th>\n",
       "      <th>petal width (cm)</th>\n",
       "    </tr>\n",
       "  </thead>\n",
       "  <tbody>\n",
       "    <tr>\n",
       "      <th>0</th>\n",
       "      <td>5.1</td>\n",
       "      <td>3.5</td>\n",
       "      <td>1.4</td>\n",
       "      <td>0.2</td>\n",
       "    </tr>\n",
       "    <tr>\n",
       "      <th>1</th>\n",
       "      <td>4.9</td>\n",
       "      <td>3.0</td>\n",
       "      <td>1.4</td>\n",
       "      <td>0.2</td>\n",
       "    </tr>\n",
       "    <tr>\n",
       "      <th>2</th>\n",
       "      <td>4.7</td>\n",
       "      <td>3.2</td>\n",
       "      <td>1.3</td>\n",
       "      <td>0.2</td>\n",
       "    </tr>\n",
       "    <tr>\n",
       "      <th>3</th>\n",
       "      <td>4.6</td>\n",
       "      <td>3.1</td>\n",
       "      <td>1.5</td>\n",
       "      <td>0.2</td>\n",
       "    </tr>\n",
       "    <tr>\n",
       "      <th>4</th>\n",
       "      <td>5.0</td>\n",
       "      <td>3.6</td>\n",
       "      <td>1.4</td>\n",
       "      <td>0.2</td>\n",
       "    </tr>\n",
       "  </tbody>\n",
       "</table>\n",
       "</div>"
      ],
      "text/plain": [
       "   sepal length (cm)  sepal width (cm)  petal length (cm)  petal width (cm)\n",
       "0                5.1               3.5                1.4               0.2\n",
       "1                4.9               3.0                1.4               0.2\n",
       "2                4.7               3.2                1.3               0.2\n",
       "3                4.6               3.1                1.5               0.2\n",
       "4                5.0               3.6                1.4               0.2"
      ]
     },
     "execution_count": 5,
     "metadata": {},
     "output_type": "execute_result"
    }
   ],
   "source": [
    "data = datasets.load_iris()\n",
    "X, Y = data.data, data.target\n",
    "\n",
    "original_df = pd.DataFrame(X, columns=data.feature_names)\n",
    "original_df.head()"
   ]
  },
  {
   "cell_type": "code",
   "execution_count": 6,
   "metadata": {},
   "outputs": [
    {
     "data": {
      "text/html": [
       "<div>\n",
       "<style scoped>\n",
       "    .dataframe tbody tr th:only-of-type {\n",
       "        vertical-align: middle;\n",
       "    }\n",
       "\n",
       "    .dataframe tbody tr th {\n",
       "        vertical-align: top;\n",
       "    }\n",
       "\n",
       "    .dataframe thead th {\n",
       "        text-align: right;\n",
       "    }\n",
       "</style>\n",
       "<table border=\"1\" class=\"dataframe\">\n",
       "  <thead>\n",
       "    <tr style=\"text-align: right;\">\n",
       "      <th></th>\n",
       "      <th>sepal length (cm)</th>\n",
       "      <th>sepal width (cm)</th>\n",
       "      <th>petal length (cm)</th>\n",
       "      <th>petal width (cm)</th>\n",
       "    </tr>\n",
       "  </thead>\n",
       "  <tbody>\n",
       "    <tr>\n",
       "      <th>0</th>\n",
       "      <td>-0.900681</td>\n",
       "      <td>1.019004</td>\n",
       "      <td>-1.340227</td>\n",
       "      <td>-1.315444</td>\n",
       "    </tr>\n",
       "    <tr>\n",
       "      <th>1</th>\n",
       "      <td>-1.143017</td>\n",
       "      <td>-0.131979</td>\n",
       "      <td>-1.340227</td>\n",
       "      <td>-1.315444</td>\n",
       "    </tr>\n",
       "    <tr>\n",
       "      <th>2</th>\n",
       "      <td>-1.385353</td>\n",
       "      <td>0.328414</td>\n",
       "      <td>-1.397064</td>\n",
       "      <td>-1.315444</td>\n",
       "    </tr>\n",
       "    <tr>\n",
       "      <th>3</th>\n",
       "      <td>-1.506521</td>\n",
       "      <td>0.098217</td>\n",
       "      <td>-1.283389</td>\n",
       "      <td>-1.315444</td>\n",
       "    </tr>\n",
       "    <tr>\n",
       "      <th>4</th>\n",
       "      <td>-1.021849</td>\n",
       "      <td>1.249201</td>\n",
       "      <td>-1.340227</td>\n",
       "      <td>-1.315444</td>\n",
       "    </tr>\n",
       "  </tbody>\n",
       "</table>\n",
       "</div>"
      ],
      "text/plain": [
       "   sepal length (cm)  sepal width (cm)  petal length (cm)  petal width (cm)\n",
       "0          -0.900681          1.019004          -1.340227         -1.315444\n",
       "1          -1.143017         -0.131979          -1.340227         -1.315444\n",
       "2          -1.385353          0.328414          -1.397064         -1.315444\n",
       "3          -1.506521          0.098217          -1.283389         -1.315444\n",
       "4          -1.021849          1.249201          -1.340227         -1.315444"
      ]
     },
     "execution_count": 6,
     "metadata": {},
     "output_type": "execute_result"
    }
   ],
   "source": [
    "X = StandardScaler().fit_transform(X)\n",
    "scaled_df = pd.DataFrame(X, columns=data.feature_names)\n",
    "scaled_df.head()"
   ]
  },
  {
   "cell_type": "code",
   "execution_count": 7,
   "metadata": {},
   "outputs": [
    {
     "data": {
      "text/html": [
       "<div>\n",
       "<style scoped>\n",
       "    .dataframe tbody tr th:only-of-type {\n",
       "        vertical-align: middle;\n",
       "    }\n",
       "\n",
       "    .dataframe tbody tr th {\n",
       "        vertical-align: top;\n",
       "    }\n",
       "\n",
       "    .dataframe thead th {\n",
       "        text-align: right;\n",
       "    }\n",
       "</style>\n",
       "<table border=\"1\" class=\"dataframe\">\n",
       "  <thead>\n",
       "    <tr style=\"text-align: right;\">\n",
       "      <th></th>\n",
       "      <th>var1</th>\n",
       "      <th>var2</th>\n",
       "      <th>var3</th>\n",
       "      <th>var4</th>\n",
       "    </tr>\n",
       "  </thead>\n",
       "  <tbody>\n",
       "    <tr>\n",
       "      <th>0</th>\n",
       "      <td>-2.264703</td>\n",
       "      <td>0.480027</td>\n",
       "      <td>-0.127706</td>\n",
       "      <td>-0.024168</td>\n",
       "    </tr>\n",
       "    <tr>\n",
       "      <th>1</th>\n",
       "      <td>-2.080961</td>\n",
       "      <td>-0.674134</td>\n",
       "      <td>-0.234609</td>\n",
       "      <td>-0.103007</td>\n",
       "    </tr>\n",
       "    <tr>\n",
       "      <th>2</th>\n",
       "      <td>-2.364229</td>\n",
       "      <td>-0.341908</td>\n",
       "      <td>0.044201</td>\n",
       "      <td>-0.028377</td>\n",
       "    </tr>\n",
       "    <tr>\n",
       "      <th>3</th>\n",
       "      <td>-2.299384</td>\n",
       "      <td>-0.597395</td>\n",
       "      <td>0.091290</td>\n",
       "      <td>0.065956</td>\n",
       "    </tr>\n",
       "    <tr>\n",
       "      <th>4</th>\n",
       "      <td>-2.389842</td>\n",
       "      <td>0.646835</td>\n",
       "      <td>0.015738</td>\n",
       "      <td>0.035923</td>\n",
       "    </tr>\n",
       "  </tbody>\n",
       "</table>\n",
       "</div>"
      ],
      "text/plain": [
       "       var1      var2      var3      var4\n",
       "0 -2.264703  0.480027 -0.127706 -0.024168\n",
       "1 -2.080961 -0.674134 -0.234609 -0.103007\n",
       "2 -2.364229 -0.341908  0.044201 -0.028377\n",
       "3 -2.299384 -0.597395  0.091290  0.065956\n",
       "4 -2.389842  0.646835  0.015738  0.035923"
      ]
     },
     "execution_count": 7,
     "metadata": {},
     "output_type": "execute_result"
    }
   ],
   "source": [
    "pca = PCA(n_components=4)\n",
    "transforms = pca.fit_transform(X)\n",
    "\n",
    "transforms_df = pd.DataFrame(data=transforms, columns=[f'var{i}' for i in range(1, 5)])\n",
    "transforms_df.head()"
   ]
  },
  {
   "cell_type": "code",
   "execution_count": 8,
   "metadata": {},
   "outputs": [
    {
     "data": {
      "text/html": [
       "<div>\n",
       "<style scoped>\n",
       "    .dataframe tbody tr th:only-of-type {\n",
       "        vertical-align: middle;\n",
       "    }\n",
       "\n",
       "    .dataframe tbody tr th {\n",
       "        vertical-align: top;\n",
       "    }\n",
       "\n",
       "    .dataframe thead th {\n",
       "        text-align: right;\n",
       "    }\n",
       "</style>\n",
       "<table border=\"1\" class=\"dataframe\">\n",
       "  <thead>\n",
       "    <tr style=\"text-align: right;\">\n",
       "      <th></th>\n",
       "      <th>0</th>\n",
       "      <th>1</th>\n",
       "      <th>2</th>\n",
       "      <th>3</th>\n",
       "    </tr>\n",
       "  </thead>\n",
       "  <tbody>\n",
       "    <tr>\n",
       "      <th>eigenvector1</th>\n",
       "      <td>0.521066</td>\n",
       "      <td>-0.269347</td>\n",
       "      <td>0.580413</td>\n",
       "      <td>0.564857</td>\n",
       "    </tr>\n",
       "    <tr>\n",
       "      <th>eigenvector2</th>\n",
       "      <td>0.377418</td>\n",
       "      <td>0.923296</td>\n",
       "      <td>0.024492</td>\n",
       "      <td>0.066942</td>\n",
       "    </tr>\n",
       "    <tr>\n",
       "      <th>eigenvector3</th>\n",
       "      <td>-0.719566</td>\n",
       "      <td>0.244382</td>\n",
       "      <td>0.142126</td>\n",
       "      <td>0.634273</td>\n",
       "    </tr>\n",
       "    <tr>\n",
       "      <th>eigenvector4</th>\n",
       "      <td>-0.261286</td>\n",
       "      <td>0.123510</td>\n",
       "      <td>0.801449</td>\n",
       "      <td>-0.523597</td>\n",
       "    </tr>\n",
       "  </tbody>\n",
       "</table>\n",
       "</div>"
      ],
      "text/plain": [
       "                     0         1         2         3\n",
       "eigenvector1  0.521066 -0.269347  0.580413  0.564857\n",
       "eigenvector2  0.377418  0.923296  0.024492  0.066942\n",
       "eigenvector3 -0.719566  0.244382  0.142126  0.634273\n",
       "eigenvector4 -0.261286  0.123510  0.801449 -0.523597"
      ]
     },
     "execution_count": 8,
     "metadata": {},
     "output_type": "execute_result"
    }
   ],
   "source": [
    "principal_components_df = pd.DataFrame(data=pca.components_, index=[f'eigenvector{i}' for i in range(1, 5)])\n",
    "principal_components_df.head()"
   ]
  },
  {
   "cell_type": "code",
   "execution_count": 9,
   "metadata": {},
   "outputs": [
    {
     "data": {
      "image/png": "[encoded data removed]",
      "text/plain": [
       "<Figure size 800x300 with 1 Axes>"
      ]
     },
     "metadata": {},
     "output_type": "display_data"
    }
   ],
   "source": [
    "plt.figure(figsize=(8,3))\n",
    "plt.title('Scree')\n",
    "plt.xlabel('Components'), plt.ylabel('Eigenvalues')\n",
    "plt.plot(np.arange(1,5), pca.explained_variance_, marker='o');"
   ]
  },
  {
   "cell_type": "code",
   "execution_count": 10,
   "metadata": {},
   "outputs": [
    {
     "data": {
      "text/html": [
       "<div>\n",
       "<style scoped>\n",
       "    .dataframe tbody tr th:only-of-type {\n",
       "        vertical-align: middle;\n",
       "    }\n",
       "\n",
       "    .dataframe tbody tr th {\n",
       "        vertical-align: top;\n",
       "    }\n",
       "\n",
       "    .dataframe thead th {\n",
       "        text-align: right;\n",
       "    }\n",
       "</style>\n",
       "<table border=\"1\" class=\"dataframe\">\n",
       "  <thead>\n",
       "    <tr style=\"text-align: right;\">\n",
       "      <th></th>\n",
       "      <th>Eigenvalues</th>\n",
       "      <th>Proportion</th>\n",
       "      <th>Cumulative</th>\n",
       "    </tr>\n",
       "  </thead>\n",
       "  <tbody>\n",
       "    <tr>\n",
       "      <th>0</th>\n",
       "      <td>2.938085</td>\n",
       "      <td>0.729624</td>\n",
       "      <td>0.729624</td>\n",
       "    </tr>\n",
       "    <tr>\n",
       "      <th>1</th>\n",
       "      <td>0.920165</td>\n",
       "      <td>0.228508</td>\n",
       "      <td>0.958132</td>\n",
       "    </tr>\n",
       "    <tr>\n",
       "      <th>2</th>\n",
       "      <td>0.147742</td>\n",
       "      <td>0.036689</td>\n",
       "      <td>0.994821</td>\n",
       "    </tr>\n",
       "    <tr>\n",
       "      <th>3</th>\n",
       "      <td>0.020854</td>\n",
       "      <td>0.005179</td>\n",
       "      <td>1.000000</td>\n",
       "    </tr>\n",
       "  </tbody>\n",
       "</table>\n",
       "</div>"
      ],
      "text/plain": [
       "   Eigenvalues  Proportion  Cumulative\n",
       "0     2.938085    0.729624    0.729624\n",
       "1     0.920165    0.228508    0.958132\n",
       "2     0.147742    0.036689    0.994821\n",
       "3     0.020854    0.005179    1.000000"
      ]
     },
     "execution_count": 10,
     "metadata": {},
     "output_type": "execute_result"
    }
   ],
   "source": [
    "summary_df = pd.DataFrame({'Eigenvalues':pca.explained_variance_})\n",
    "summary_df['Proportion'] = summary_df/np.sum(summary_df)\n",
    "summary_df['Cumulative'] = np.cumsum(summary_df['Proportion'])\n",
    "summary_df"
   ]
  },
  {
   "cell_type": "markdown",
   "metadata": {},
   "source": [
    "***\n",
    "<div class=\"alert alert-block alert-info\">\n",
    "Verification with Numpy linalg.\n",
    "</div>"
   ]
  },
  {
   "cell_type": "code",
   "execution_count": 11,
   "metadata": {},
   "outputs": [
    {
     "data": {
      "text/plain": [
       "array([[ 1.00671141, -0.11835884,  0.87760447,  0.82343066],\n",
       "       [-0.11835884,  1.00671141, -0.43131554, -0.36858315],\n",
       "       [ 0.87760447, -0.43131554,  1.00671141,  0.96932762],\n",
       "       [ 0.82343066, -0.36858315,  0.96932762,  1.00671141]])"
      ]
     },
     "execution_count": 11,
     "metadata": {},
     "output_type": "execute_result"
    }
   ],
   "source": [
    "cov_matrix = np.cov(X, rowvar=False)\n",
    "cov_matrix"
   ]
  },
  {
   "cell_type": "code",
   "execution_count": 12,
   "metadata": {},
   "outputs": [
    {
     "name": "stdout",
     "output_type": "stream",
     "text": [
      "numpy Eigenvalues:  [2.93808505 0.9201649  0.14774182 0.02085386]\n",
      "sklearn Eigenvalues:  [2.93808505 0.9201649  0.14774182 0.02085386]\n"
     ]
    }
   ],
   "source": [
    "eig_vals, eig_vecs = np.linalg.eigh(cov_matrix)\n",
    "print('numpy Eigenvalues: ', eig_vals[::-1])\n",
    "print('sklearn Eigenvalues: ', pca.explained_variance_)"
   ]
  },
  {
   "cell_type": "markdown",
   "metadata": {},
   "source": [
    "<div class=\"alert alert-block alert-danger\">\n",
    "numpy.linalg's eigenvectors are column-based. v[:,i] is the eigenvector corresponding to the eigenvalue w[i].\n",
    "\n",
    "sklearn.PCA's eigenvectors are row-based. v[i,:] is the eigenvector corresponding to the eigenvalue w[i].\n",
    "</div>"
   ]
  },
  {
   "cell_type": "code",
   "execution_count": 13,
   "metadata": {},
   "outputs": [
    {
     "name": "stdout",
     "output_type": "stream",
     "text": [
      "numpy Eigenvectors: \n",
      "[[ 0.26128628  0.71956635  0.37741762 -0.52106591]\n",
      " [-0.12350962 -0.24438178  0.92329566  0.26934744]\n",
      " [-0.80144925 -0.14212637  0.02449161 -0.5804131 ]\n",
      " [ 0.52359713 -0.63427274  0.06694199 -0.56485654]]\n",
      "sklearn Eigenvectors: \n",
      "[[ 0.52106591 -0.26934744  0.5804131   0.56485654]\n",
      " [ 0.37741762  0.92329566  0.02449161  0.06694199]\n",
      " [-0.71956635  0.24438178  0.14212637  0.63427274]\n",
      " [-0.26128628  0.12350962  0.80144925 -0.52359713]]\n"
     ]
    }
   ],
   "source": [
    "print('numpy Eigenvectors: ', eig_vecs, sep='\\n')\n",
    "print('sklearn Eigenvectors: ', pca.components_, sep='\\n')"
   ]
  },
  {
   "cell_type": "code",
   "execution_count": 14,
   "metadata": {},
   "outputs": [
    {
     "data": {
      "text/plain": [
       "array([[ 0.0241682 ,  0.12770602,  0.4800266 ,  2.26470281],\n",
       "       [ 0.10300677,  0.23460885, -0.67413356,  2.08096115],\n",
       "       [ 0.02837705, -0.04420148, -0.34190802,  2.36422905],\n",
       "       [-0.06595556, -0.09129011, -0.59739451,  2.29938422],\n",
       "       [-0.03592281, -0.0157382 ,  0.64683538,  2.38984217]])"
      ]
     },
     "execution_count": 14,
     "metadata": {},
     "output_type": "execute_result"
    }
   ],
   "source": [
    "transforms_raw = X @ eig_vecs\n",
    "transforms_raw[:5, :]"
   ]
  }
 ],
 "metadata": {
  "kernelspec": {
   "display_name": "Python 3 (ipykernel)",
   "language": "python",
   "name": "python3"
  },
  "language_info": {
   "codemirror_mode": {
    "name": "ipython",
    "version": 3
   },
   "file_extension": ".py",
   "mimetype": "text/x-python",
   "name": "python",
   "nbconvert_exporter": "python",
   "pygments_lexer": "ipython3",
   "version": "3.9.13"
  }
 },
 "nbformat": 4,
 "nbformat_minor": 2
}
