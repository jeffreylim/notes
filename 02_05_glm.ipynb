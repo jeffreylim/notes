{
 "cells": [
  {
   "cell_type": "markdown",
   "metadata": {},
   "source": [
    "<div class=\"alert alert-block alert-danger\">\n",
    "    \n",
    "### Notes \n",
    "\n",
    "</div>\n",
    "\n",
    "### Generalized Linear Models, Logistic, Poisson, Numerical python, $\\dots$"
   ]
  },
  {
   "cell_type": "code",
   "execution_count": 1,
   "metadata": {},
   "outputs": [],
   "source": [
    "%matplotlib inline"
   ]
  },
  {
   "cell_type": "code",
   "execution_count": 2,
   "metadata": {},
   "outputs": [],
   "source": [
    "import numpy as np\n",
    "import pandas as pd\n",
    "import matplotlib.pyplot as plt\n",
    "import seaborn as sb\n",
    "\n",
    "from scipy import stats\n",
    "\n",
    "import statsmodels.api as sm"
   ]
  },
  {
   "cell_type": "code",
   "execution_count": 3,
   "metadata": {},
   "outputs": [],
   "source": [
    "plt.close('all')\n",
    "\n",
    "np.random.seed(1234)"
   ]
  },
  {
   "cell_type": "markdown",
   "metadata": {},
   "source": [
    "<hr/>\n",
    "\n",
    "#### Logistic Regression\n",
    "\n",
    "#### Logistic function\n",
    "\n",
    "$f : \\mathbb{R}$ $\\rightarrow$ $\\mathbb{R}_{[0, 1]}$ by $\\frac{e^x}{1+e^x} = \\frac{1}{1+e^{-x}}$\n",
    "\n",
    "$1-f(x) = f(-x) = \\frac{1}{1+e^{x}}$\n",
    "\n",
    "$f^{\\prime}(x) = f(x)(1 - f(x)) = f(x)f(-x)$\n",
    "\n",
    "#### Binary logistic classification\n",
    "\n",
    "$ P\\{ y_i = 1 \\mid \\mathbf{x}_i, \\mathbf{\\beta} \\} = p_i = \\frac{ exp( \\mathbf{x^T_i} \\mathbf{\\beta} )}{1+exp( \\mathbf{x^T_i} \\mathbf{\\beta} )} = \\frac{1}{1+exp(-\\mathbf{x^T_i} \\mathbf{\\beta}) } $\n",
    "\n",
    "$ P\\{ y_i = 0 \\mid \\mathbf{x}_i, \\mathbf{\\beta} \\} = 1 - p_i = \\frac{1}{1+exp(\\mathbf{x^T_i} \\mathbf{\\beta})} $\n",
    "\n",
    "##### Log-likelihood for binary classification\n",
    "\n",
    "$\n",
    "\\begin{align}\n",
    "L \\{\\mathbf{\\beta} \\mid \\mathbf{X}, Y \\}\n",
    "&= \\Pi^n_{i=1} p_i^{y_i} (1-p_i)^{1-y_i} \\\\\n",
    "\\end{align}\n",
    "$\n",
    "\n",
    "$\n",
    "\\begin{align}\n",
    "\\ell(\\beta)\n",
    "&= \\sum^{n}_{i=1} \\{ (y_i) log p_i + (1 - y_i) log(1-p_i) \\} \\\\\n",
    "&= \\sum^{n}_{i=1} \\{ (y_i) log (\\frac{e^{x^T_i\\beta}}{1+e^{x^T_i\\beta}}) + (1-y_i)log(\\frac{1}{1+e^{x^T_i\\beta}}) \\} \\\\\n",
    "&= \\sum^{n}_{i=1} \\{ y_i x^T_i\\beta - (y_i)log(1+e^{x^T_i\\beta}) - log(1+e^{x^T_i\\beta}) + (y_i) log(1+e^{x^T_i\\beta}) \\} \\\\\n",
    "&= \\sum^{n}_{i=1} \\{ y_i x^T_i\\beta - log(1+e^{x^T_i\\beta}) \\}\n",
    "\\end{align}\n",
    "$\n",
    "\n",
    "##### Logit link function\n",
    "\n",
    "- $\\mathbb{E}[Y \\mid \\mathbf{X}] = \\mu = p = \\frac{e^{\\mathbf{x}\\mathbf{\\beta}}}{1+e^{\\mathbf{x}\\mathbf{\\beta}}} = e^{\\mathbf{x}\\mathbf{\\beta}} (\\frac{1}{1+e^{\\mathbf{x}\\mathbf{\\beta}}}) = e^{\\mathbf{x}\\mathbf{\\beta}} (1-p) \\implies \\frac{p}{1-p} = e^{\\mathbf{x}\\mathbf{\\beta}} \\implies log(\\frac{p}{1-p}) = {\\mathbf{x}\\mathbf{\\beta}}$\n",
    "\n",
    "or\n",
    "\n",
    "- [odds] $\\frac{p}{1-p} = \\frac{e^{\\mathbf{x}\\mathbf{\\beta}}}{1+e^{\\mathbf{x}\\mathbf{\\beta}}} (1+e^{\\mathbf{x}\\mathbf{\\beta}}) = e^{\\mathbf{x}\\mathbf{\\beta}} = \\mu$\n",
    "\n",
    "- [log-odds (logit)] $log(\\frac{ p}{1 - p}) = \\mathbf{x} \\mathbf{\\beta}$\n",
    "\n",
    "***"
   ]
  },
  {
   "cell_type": "code",
   "execution_count": 4,
   "metadata": {},
   "outputs": [
    {
     "data": {
      "text/html": [
       "<div>\n",
       "<style scoped>\n",
       "    .dataframe tbody tr th:only-of-type {\n",
       "        vertical-align: middle;\n",
       "    }\n",
       "\n",
       "    .dataframe tbody tr th {\n",
       "        vertical-align: top;\n",
       "    }\n",
       "\n",
       "    .dataframe thead th {\n",
       "        text-align: right;\n",
       "    }\n",
       "</style>\n",
       "<table border=\"1\" class=\"dataframe\">\n",
       "  <thead>\n",
       "    <tr style=\"text-align: right;\">\n",
       "      <th></th>\n",
       "      <th>REMISS</th>\n",
       "      <th>CELL</th>\n",
       "      <th>SMEAR</th>\n",
       "      <th>INFIL</th>\n",
       "      <th>LI</th>\n",
       "      <th>BLAST</th>\n",
       "      <th>TEMP</th>\n",
       "    </tr>\n",
       "  </thead>\n",
       "  <tbody>\n",
       "    <tr>\n",
       "      <th>0</th>\n",
       "      <td>1</td>\n",
       "      <td>0.8</td>\n",
       "      <td>0.83</td>\n",
       "      <td>0.66</td>\n",
       "      <td>1.9</td>\n",
       "      <td>1.10</td>\n",
       "      <td>1.00</td>\n",
       "    </tr>\n",
       "    <tr>\n",
       "      <th>1</th>\n",
       "      <td>1</td>\n",
       "      <td>0.9</td>\n",
       "      <td>0.36</td>\n",
       "      <td>0.32</td>\n",
       "      <td>1.4</td>\n",
       "      <td>0.74</td>\n",
       "      <td>0.99</td>\n",
       "    </tr>\n",
       "    <tr>\n",
       "      <th>2</th>\n",
       "      <td>0</td>\n",
       "      <td>0.8</td>\n",
       "      <td>0.88</td>\n",
       "      <td>0.70</td>\n",
       "      <td>0.8</td>\n",
       "      <td>0.18</td>\n",
       "      <td>0.98</td>\n",
       "    </tr>\n",
       "    <tr>\n",
       "      <th>3</th>\n",
       "      <td>0</td>\n",
       "      <td>1.0</td>\n",
       "      <td>0.87</td>\n",
       "      <td>0.87</td>\n",
       "      <td>0.7</td>\n",
       "      <td>1.05</td>\n",
       "      <td>0.99</td>\n",
       "    </tr>\n",
       "    <tr>\n",
       "      <th>4</th>\n",
       "      <td>1</td>\n",
       "      <td>0.9</td>\n",
       "      <td>0.75</td>\n",
       "      <td>0.68</td>\n",
       "      <td>1.3</td>\n",
       "      <td>0.52</td>\n",
       "      <td>0.98</td>\n",
       "    </tr>\n",
       "  </tbody>\n",
       "</table>\n",
       "</div>"
      ],
      "text/plain": [
       "   REMISS  CELL  SMEAR  INFIL   LI  BLAST  TEMP\n",
       "0       1   0.8   0.83   0.66  1.9   1.10  1.00\n",
       "1       1   0.9   0.36   0.32  1.4   0.74  0.99\n",
       "2       0   0.8   0.88   0.70  0.8   0.18  0.98\n",
       "3       0   1.0   0.87   0.87  0.7   1.05  0.99\n",
       "4       1   0.9   0.75   0.68  1.3   0.52  0.98"
      ]
     },
     "execution_count": 4,
     "metadata": {},
     "output_type": "execute_result"
    }
   ],
   "source": [
    "data=pd.read_csv('leukemia_remission.txt', sep='\\t')\n",
    "data.head()"
   ]
  },
  {
   "cell_type": "code",
   "execution_count": 5,
   "metadata": {},
   "outputs": [],
   "source": [
    "endog = data.loc[:,'REMISS'].to_numpy()\n",
    "exog = data.drop('REMISS', axis=1)"
   ]
  },
  {
   "cell_type": "code",
   "execution_count": 6,
   "metadata": {},
   "outputs": [
    {
     "data": {
      "text/html": [
       "<table class=\"simpletable\">\n",
       "<caption>Generalized Linear Model Regression Results</caption>\n",
       "<tr>\n",
       "  <th>Dep. Variable:</th>           <td>y</td>        <th>  No. Observations:  </th>  <td>    27</td> \n",
       "</tr>\n",
       "<tr>\n",
       "  <th>Model:</th>                  <td>GLM</td>       <th>  Df Residuals:      </th>  <td>    20</td> \n",
       "</tr>\n",
       "<tr>\n",
       "  <th>Model Family:</th>        <td>Binomial</td>     <th>  Df Model:          </th>  <td>     6</td> \n",
       "</tr>\n",
       "<tr>\n",
       "  <th>Link Function:</th>         <td>logit</td>      <th>  Scale:             </th> <td>  1.0000</td>\n",
       "</tr>\n",
       "<tr>\n",
       "  <th>Method:</th>                <td>IRLS</td>       <th>  Log-Likelihood:    </th> <td> -10.797</td>\n",
       "</tr>\n",
       "<tr>\n",
       "  <th>Date:</th>            <td>Sun, 16 Aug 2020</td> <th>  Deviance:          </th> <td>  21.594</td>\n",
       "</tr>\n",
       "<tr>\n",
       "  <th>Time:</th>                <td>00:31:12</td>     <th>  Pearson chi2:      </th>  <td>  19.1</td> \n",
       "</tr>\n",
       "<tr>\n",
       "  <th>No. Iterations:</th>          <td>8</td>        <th>                     </th>     <td> </td>   \n",
       "</tr>\n",
       "<tr>\n",
       "  <th>Covariance Type:</th>     <td>nonrobust</td>    <th>                     </th>     <td> </td>   \n",
       "</tr>\n",
       "</table>\n",
       "<table class=\"simpletable\">\n",
       "<tr>\n",
       "    <td></td>       <th>coef</th>     <th>std err</th>      <th>z</th>      <th>P>|z|</th>  <th>[0.025</th>    <th>0.975]</th>  \n",
       "</tr>\n",
       "<tr>\n",
       "  <th>const</th> <td>   64.2581</td> <td>   74.965</td> <td>    0.857</td> <td> 0.391</td> <td>  -82.670</td> <td>  211.186</td>\n",
       "</tr>\n",
       "<tr>\n",
       "  <th>CELL</th>  <td>   30.8301</td> <td>   52.135</td> <td>    0.591</td> <td> 0.554</td> <td>  -71.353</td> <td>  133.013</td>\n",
       "</tr>\n",
       "<tr>\n",
       "  <th>SMEAR</th> <td>   24.6863</td> <td>   61.526</td> <td>    0.401</td> <td> 0.688</td> <td>  -95.902</td> <td>  145.275</td>\n",
       "</tr>\n",
       "<tr>\n",
       "  <th>INFIL</th> <td>  -24.9745</td> <td>   65.281</td> <td>   -0.383</td> <td> 0.702</td> <td> -152.923</td> <td>  102.974</td>\n",
       "</tr>\n",
       "<tr>\n",
       "  <th>LI</th>    <td>    4.3605</td> <td>    2.658</td> <td>    1.641</td> <td> 0.101</td> <td>   -0.849</td> <td>    9.570</td>\n",
       "</tr>\n",
       "<tr>\n",
       "  <th>BLAST</th> <td>   -0.0115</td> <td>    2.266</td> <td>   -0.005</td> <td> 0.996</td> <td>   -4.453</td> <td>    4.430</td>\n",
       "</tr>\n",
       "<tr>\n",
       "  <th>TEMP</th>  <td> -100.1734</td> <td>   77.753</td> <td>   -1.288</td> <td> 0.198</td> <td> -252.566</td> <td>   52.219</td>\n",
       "</tr>\n",
       "</table>"
      ],
      "text/plain": [
       "<class 'statsmodels.iolib.summary.Summary'>\n",
       "\"\"\"\n",
       "                 Generalized Linear Model Regression Results                  \n",
       "==============================================================================\n",
       "Dep. Variable:                      y   No. Observations:                   27\n",
       "Model:                            GLM   Df Residuals:                       20\n",
       "Model Family:                Binomial   Df Model:                            6\n",
       "Link Function:                  logit   Scale:                          1.0000\n",
       "Method:                          IRLS   Log-Likelihood:                -10.797\n",
       "Date:                Sun, 16 Aug 2020   Deviance:                       21.594\n",
       "Time:                        00:31:12   Pearson chi2:                     19.1\n",
       "No. Iterations:                     8                                         \n",
       "Covariance Type:            nonrobust                                         \n",
       "==============================================================================\n",
       "                 coef    std err          z      P>|z|      [0.025      0.975]\n",
       "------------------------------------------------------------------------------\n",
       "const         64.2581     74.965      0.857      0.391     -82.670     211.186\n",
       "CELL          30.8301     52.135      0.591      0.554     -71.353     133.013\n",
       "SMEAR         24.6863     61.526      0.401      0.688     -95.902     145.275\n",
       "INFIL        -24.9745     65.281     -0.383      0.702    -152.923     102.974\n",
       "LI             4.3605      2.658      1.641      0.101      -0.849       9.570\n",
       "BLAST         -0.0115      2.266     -0.005      0.996      -4.453       4.430\n",
       "TEMP        -100.1734     77.753     -1.288      0.198    -252.566      52.219\n",
       "==============================================================================\n",
       "\"\"\""
      ]
     },
     "execution_count": 6,
     "metadata": {},
     "output_type": "execute_result"
    }
   ],
   "source": [
    "logistic_model = sm.GLM(endog, sm.add_constant(exog), family=sm.families.Binomial())\n",
    "results = logistic_model.fit()\n",
    "results.summary()"
   ]
  },
  {
   "cell_type": "markdown",
   "metadata": {},
   "source": [
    "<hr/>\n",
    "\n",
    "<div class=\"alert alert-block alert-info\">\n",
    "Yet another logistic dataset\n",
    "</div>"
   ]
  },
  {
   "cell_type": "code",
   "execution_count": 7,
   "metadata": {},
   "outputs": [],
   "source": [
    "Hours = np.array([0.50,0.75,1.00,1.25,1.50,1.75,1.75,2.00,2.25,2.50,2.75,3.00,3.25,3.50,4.00,4.25,4.50,4.75,5.00,5.50])\n",
    "Pass = np.array([0,0,0,0,0,0,1,0,1,0,1,0,1,0,1,1,1,1,1,1])"
   ]
  },
  {
   "cell_type": "code",
   "execution_count": 8,
   "metadata": {},
   "outputs": [
    {
     "data": {
      "text/html": [
       "<table class=\"simpletable\">\n",
       "<caption>Generalized Linear Model Regression Results</caption>\n",
       "<tr>\n",
       "  <th>Dep. Variable:</th>           <td>y</td>        <th>  No. Observations:  </th>  <td>    20</td> \n",
       "</tr>\n",
       "<tr>\n",
       "  <th>Model:</th>                  <td>GLM</td>       <th>  Df Residuals:      </th>  <td>    18</td> \n",
       "</tr>\n",
       "<tr>\n",
       "  <th>Model Family:</th>        <td>Binomial</td>     <th>  Df Model:          </th>  <td>     1</td> \n",
       "</tr>\n",
       "<tr>\n",
       "  <th>Link Function:</th>         <td>logit</td>      <th>  Scale:             </th> <td>  1.0000</td>\n",
       "</tr>\n",
       "<tr>\n",
       "  <th>Method:</th>                <td>IRLS</td>       <th>  Log-Likelihood:    </th> <td> -8.0299</td>\n",
       "</tr>\n",
       "<tr>\n",
       "  <th>Date:</th>            <td>Sun, 16 Aug 2020</td> <th>  Deviance:          </th> <td>  16.060</td>\n",
       "</tr>\n",
       "<tr>\n",
       "  <th>Time:</th>                <td>00:31:12</td>     <th>  Pearson chi2:      </th>  <td>  14.6</td> \n",
       "</tr>\n",
       "<tr>\n",
       "  <th>No. Iterations:</th>          <td>5</td>        <th>                     </th>     <td> </td>   \n",
       "</tr>\n",
       "<tr>\n",
       "  <th>Covariance Type:</th>     <td>nonrobust</td>    <th>                     </th>     <td> </td>   \n",
       "</tr>\n",
       "</table>\n",
       "<table class=\"simpletable\">\n",
       "<tr>\n",
       "    <td></td>       <th>coef</th>     <th>std err</th>      <th>z</th>      <th>P>|z|</th>  <th>[0.025</th>    <th>0.975]</th>  \n",
       "</tr>\n",
       "<tr>\n",
       "  <th>const</th> <td>   -4.0777</td> <td>    1.761</td> <td>   -2.316</td> <td> 0.021</td> <td>   -7.529</td> <td>   -0.626</td>\n",
       "</tr>\n",
       "<tr>\n",
       "  <th>x1</th>    <td>    1.5046</td> <td>    0.629</td> <td>    2.393</td> <td> 0.017</td> <td>    0.272</td> <td>    2.737</td>\n",
       "</tr>\n",
       "</table>"
      ],
      "text/plain": [
       "<class 'statsmodels.iolib.summary.Summary'>\n",
       "\"\"\"\n",
       "                 Generalized Linear Model Regression Results                  \n",
       "==============================================================================\n",
       "Dep. Variable:                      y   No. Observations:                   20\n",
       "Model:                            GLM   Df Residuals:                       18\n",
       "Model Family:                Binomial   Df Model:                            1\n",
       "Link Function:                  logit   Scale:                          1.0000\n",
       "Method:                          IRLS   Log-Likelihood:                -8.0299\n",
       "Date:                Sun, 16 Aug 2020   Deviance:                       16.060\n",
       "Time:                        00:31:12   Pearson chi2:                     14.6\n",
       "No. Iterations:                     5                                         \n",
       "Covariance Type:            nonrobust                                         \n",
       "==============================================================================\n",
       "                 coef    std err          z      P>|z|      [0.025      0.975]\n",
       "------------------------------------------------------------------------------\n",
       "const         -4.0777      1.761     -2.316      0.021      -7.529      -0.626\n",
       "x1             1.5046      0.629      2.393      0.017       0.272       2.737\n",
       "==============================================================================\n",
       "\"\"\""
      ]
     },
     "execution_count": 8,
     "metadata": {},
     "output_type": "execute_result"
    }
   ],
   "source": [
    "logistic_model = sm.GLM(Pass, sm.add_constant(Hours), family=sm.families.Binomial())\n",
    "results = logistic_model.fit()\n",
    "results.summary()"
   ]
  },
  {
   "cell_type": "code",
   "execution_count": 9,
   "metadata": {},
   "outputs": [
    {
     "data": {
      "image/png": "[encoded data removed]",
      "text/plain": [
       "<Figure size 720x720 with 1 Axes>"
      ]
     },
     "metadata": {
      "needs_background": "light"
     },
     "output_type": "display_data"
    }
   ],
   "source": [
    "plt.figure(figsize=(10,10))\n",
    "\n",
    "plt.scatter(Hours, Pass, marker='x')\n",
    "plt.scatter(Hours, results.fittedvalues, marker='D')\n",
    "\n",
    "plt.plot(Hours, 1/(1+np.exp(-(results.params[0]+results.params[1]*Hours))))\n",
    "\n",
    "plt.xlabel('Hours'), plt.ylabel('Passed')\n",
    "plt.title('Logistic Regression')\n",
    "plt.grid(True);"
   ]
  },
  {
   "cell_type": "markdown",
   "metadata": {},
   "source": [
    "---\n",
    "\n",
    "##### Maximum Likelihood via Gradient Ascent"
   ]
  },
  {
   "cell_type": "code",
   "execution_count": 10,
   "metadata": {},
   "outputs": [],
   "source": [
    "def row_based_gradient_descent_numerical(Hours, Pass, beta, learning_rate, precision, delta_epsilon, max_iterations):\n",
    "    X = sm.add_constant(Hours)\n",
    "    for i in range(max_iterations):\n",
    "        for idx in range(len(Pass)):\n",
    "\n",
    "            fwd_diff_0 = -Pass[idx] * X[idx].T @ (beta + np.array([delta_epsilon, 0])) + \\\n",
    "                        np.log(1 + np.exp(X[idx].T @ (beta + np.array([delta_epsilon, 0]))))\n",
    "            \n",
    "            bwd_diff_0 = -Pass[idx] * X[idx].T @ (beta - np.array([delta_epsilon, 0])) + \\\n",
    "                        np.log(1 + np.exp(X[idx].T @ (beta - np.array([delta_epsilon, 0]))))\n",
    "            \n",
    "            gradient_vector_0 = (fwd_diff_0 - bwd_diff_0) / (2.0 * delta_epsilon)\n",
    "            \n",
    "            fwd_diff_1 = -Pass[idx] * X[idx].T @ (beta + np.array([0, delta_epsilon])) + \\\n",
    "                        np.log(1 + np.exp(X[idx].T @ (beta + np.array([0, delta_epsilon]))))\n",
    "            \n",
    "            bwd_diff_1 = -Pass[idx] * X[idx].T @ (beta - np.array([0, delta_epsilon])) + \\\n",
    "                        np.log(1 + np.exp(X[idx].T @ (beta - np.array([0, delta_epsilon]))))\n",
    "            \n",
    "            gradient_vector_1 = (fwd_diff_1 - bwd_diff_1) / (2.0 * delta_epsilon)\n",
    "            \n",
    "            next_beta = beta - learning_rate * np.array([gradient_vector_0, gradient_vector_1])\n",
    "            if np.fabs(next_beta - beta).all() < precision.all():\n",
    "                print('Terminated at iteration: {}'.format(i))\n",
    "                return next_beta\n",
    "            beta = next_beta\n",
    "    print('Terminated. Max iterations reached.')\n",
    "    return next_beta"
   ]
  },
  {
   "cell_type": "code",
   "execution_count": 11,
   "metadata": {},
   "outputs": [
    {
     "name": "stdout",
     "output_type": "stream",
     "text": [
      "Terminated. Max iterations reached.\n",
      "Weights (row-based numerical solution):  [-4.20915833  1.54325118]\n"
     ]
    }
   ],
   "source": [
    "beta_0 = np.ones(2)\n",
    "learning_rate = 0.05\n",
    "precision_ = np.full(2, 0.000001)\n",
    "max_iterations = 5000\n",
    "delta_epsilon = 0.000001\n",
    "\n",
    "betas_rbn = row_based_gradient_descent_numerical(Hours, Pass, beta_0, learning_rate, precision_, delta_epsilon, max_iterations)\n",
    "print('Weights (row-based numerical solution): ', betas_rbn)"
   ]
  },
  {
   "cell_type": "code",
   "execution_count": 12,
   "metadata": {},
   "outputs": [
    {
     "data": {
      "image/png": "[encoded data removed]",
      "text/plain": [
       "<Figure size 720x720 with 1 Axes>"
      ]
     },
     "metadata": {
      "needs_background": "light"
     },
     "output_type": "display_data"
    }
   ],
   "source": [
    "plt.figure(figsize=(10,10))\n",
    "plt.scatter(Hours, Pass, marker='x')\n",
    "plt.plot(Hours, 1/(1+np.exp(-(betas_rbn[0]+betas_rbn[1]*Hours))))\n",
    "plt.xlabel('Hours'), plt.ylabel('Passed')\n",
    "plt.title('Logistic Regression')\n",
    "plt.grid(True);"
   ]
  },
  {
   "cell_type": "markdown",
   "metadata": {},
   "source": [
    "<hr/>\n",
    "\n",
    "#### Poisson Regression\n",
    "\n",
    "$ \\lambda = e^{\\mathbf{x} \\mathbf{\\beta}} $\n",
    "\n",
    "$\n",
    "\\begin{align}\n",
    "P\\{Y_i=y_i \\mid \\mathbf{x_i} \\text{, } \\mathbf{\\beta}\\} &= \\frac{e^{-\\lambda}\\lambda^{y_i}}{y_i !} \\\\\n",
    "&=  \\frac{ e^{-e^{(\\mathbf{x^T_i}\\mathbf{\\beta}})} e^{(\\mathbf{x^T_i} \\mathbf{\\beta})^{y_i}} }{y_i !}\n",
    "\\end{align}\n",
    "$\n",
    "\n",
    "##### Log-likelihood\n",
    "\n",
    "$\n",
    "\\begin{align}\n",
    "L \\{\\mathbf{\\beta} \\mid \\mathbf{X}, Y \\}\n",
    "&= \\Pi^n_{i=1} \\frac{ e^{-e^{(\\mathbf{x^T_i}\\mathbf{\\beta}})} e^{(\\mathbf{x^T_i} \\mathbf{\\beta}) y_i} }{y_i !} \\\\\n",
    "\\end{align}\n",
    "$\n",
    "\n",
    "$\n",
    "\\begin{align}\n",
    "\\ell(\\beta)\n",
    "&= \\sum^{n}_{i=1} log(\\frac{ e^{-e^{(\\mathbf{x^T_i}\\mathbf{\\beta}})} e^{(\\mathbf{x^T_i} \\mathbf{\\beta})^{y_i}} }{y_i !}) \\\\\n",
    "&= \\sum^{n}_{i=1} \\{ (-e^{\\mathbf{x^T_i}\\mathbf{\\beta}}) log(e) + (\\mathbf{x^T_i} \\mathbf{\\beta} y_i) log(e) - log(y_i !) \\} \\\\\n",
    "&= -\\sum^{n}_{i=1} e^{\\mathbf{x^T_i}\\mathbf{\\beta}} + \\sum^{n}_{i=1} (\\mathbf{x^T_i} \\mathbf{\\beta} y_i) - \\sum^{n}_{i=1} log(y_i !) \\\\\n",
    "\\end{align}\n",
    "$\n",
    "\n",
    "##### Log link function\n",
    "- $log(\\lambda) = \\mathbf{x} \\mathbf{\\beta}$\n",
    "\n",
    "***"
   ]
  },
  {
   "cell_type": "code",
   "execution_count": 13,
   "metadata": {},
   "outputs": [
    {
     "data": {
      "text/html": [
       "<div>\n",
       "<style scoped>\n",
       "    .dataframe tbody tr th:only-of-type {\n",
       "        vertical-align: middle;\n",
       "    }\n",
       "\n",
       "    .dataframe tbody tr th {\n",
       "        vertical-align: top;\n",
       "    }\n",
       "\n",
       "    .dataframe thead th {\n",
       "        text-align: right;\n",
       "    }\n",
       "</style>\n",
       "<table border=\"1\" class=\"dataframe\">\n",
       "  <thead>\n",
       "    <tr style=\"text-align: right;\">\n",
       "      <th></th>\n",
       "      <th>i</th>\n",
       "      <th>x</th>\n",
       "      <th>y</th>\n",
       "    </tr>\n",
       "  </thead>\n",
       "  <tbody>\n",
       "    <tr>\n",
       "      <th>0</th>\n",
       "      <td>1</td>\n",
       "      <td>2</td>\n",
       "      <td>0</td>\n",
       "    </tr>\n",
       "    <tr>\n",
       "      <th>1</th>\n",
       "      <td>2</td>\n",
       "      <td>15</td>\n",
       "      <td>6</td>\n",
       "    </tr>\n",
       "    <tr>\n",
       "      <th>2</th>\n",
       "      <td>3</td>\n",
       "      <td>19</td>\n",
       "      <td>4</td>\n",
       "    </tr>\n",
       "    <tr>\n",
       "      <th>3</th>\n",
       "      <td>4</td>\n",
       "      <td>14</td>\n",
       "      <td>1</td>\n",
       "    </tr>\n",
       "    <tr>\n",
       "      <th>4</th>\n",
       "      <td>5</td>\n",
       "      <td>16</td>\n",
       "      <td>5</td>\n",
       "    </tr>\n",
       "  </tbody>\n",
       "</table>\n",
       "</div>"
      ],
      "text/plain": [
       "   i   x  y\n",
       "0  1   2  0\n",
       "1  2  15  6\n",
       "2  3  19  4\n",
       "3  4  14  1\n",
       "4  5  16  5"
      ]
     },
     "execution_count": 13,
     "metadata": {},
     "output_type": "execute_result"
    }
   ],
   "source": [
    "poisson_data = pd.read_csv('poisson_simulated.txt', sep='\\t')\n",
    "poisson_data.head()"
   ]
  },
  {
   "cell_type": "code",
   "execution_count": 14,
   "metadata": {},
   "outputs": [],
   "source": [
    "endog = poisson_data.loc[:,'y']\n",
    "exog = poisson_data.loc[:,'x']"
   ]
  },
  {
   "cell_type": "code",
   "execution_count": 15,
   "metadata": {},
   "outputs": [
    {
     "data": {
      "text/html": [
       "<table class=\"simpletable\">\n",
       "<caption>Generalized Linear Model Regression Results</caption>\n",
       "<tr>\n",
       "  <th>Dep. Variable:</th>           <td>y</td>        <th>  No. Observations:  </th>  <td>    30</td> \n",
       "</tr>\n",
       "<tr>\n",
       "  <th>Model:</th>                  <td>GLM</td>       <th>  Df Residuals:      </th>  <td>    28</td> \n",
       "</tr>\n",
       "<tr>\n",
       "  <th>Model Family:</th>         <td>Poisson</td>     <th>  Df Model:          </th>  <td>     1</td> \n",
       "</tr>\n",
       "<tr>\n",
       "  <th>Link Function:</th>          <td>log</td>       <th>  Scale:             </th> <td>  1.0000</td>\n",
       "</tr>\n",
       "<tr>\n",
       "  <th>Method:</th>                <td>IRLS</td>       <th>  Log-Likelihood:    </th> <td> -60.251</td>\n",
       "</tr>\n",
       "<tr>\n",
       "  <th>Date:</th>            <td>Sun, 16 Aug 2020</td> <th>  Deviance:          </th> <td>  27.842</td>\n",
       "</tr>\n",
       "<tr>\n",
       "  <th>Time:</th>                <td>00:31:23</td>     <th>  Pearson chi2:      </th>  <td>  26.1</td> \n",
       "</tr>\n",
       "<tr>\n",
       "  <th>No. Iterations:</th>          <td>4</td>        <th>                     </th>     <td> </td>   \n",
       "</tr>\n",
       "<tr>\n",
       "  <th>Covariance Type:</th>     <td>nonrobust</td>    <th>                     </th>     <td> </td>   \n",
       "</tr>\n",
       "</table>\n",
       "<table class=\"simpletable\">\n",
       "<tr>\n",
       "    <td></td>       <th>coef</th>     <th>std err</th>      <th>z</th>      <th>P>|z|</th>  <th>[0.025</th>    <th>0.975]</th>  \n",
       "</tr>\n",
       "<tr>\n",
       "  <th>const</th> <td>    0.3079</td> <td>    0.289</td> <td>    1.064</td> <td> 0.287</td> <td>   -0.259</td> <td>    0.875</td>\n",
       "</tr>\n",
       "<tr>\n",
       "  <th>x</th>     <td>    0.0764</td> <td>    0.017</td> <td>    4.413</td> <td> 0.000</td> <td>    0.042</td> <td>    0.110</td>\n",
       "</tr>\n",
       "</table>"
      ],
      "text/plain": [
       "<class 'statsmodels.iolib.summary.Summary'>\n",
       "\"\"\"\n",
       "                 Generalized Linear Model Regression Results                  \n",
       "==============================================================================\n",
       "Dep. Variable:                      y   No. Observations:                   30\n",
       "Model:                            GLM   Df Residuals:                       28\n",
       "Model Family:                 Poisson   Df Model:                            1\n",
       "Link Function:                    log   Scale:                          1.0000\n",
       "Method:                          IRLS   Log-Likelihood:                -60.251\n",
       "Date:                Sun, 16 Aug 2020   Deviance:                       27.842\n",
       "Time:                        00:31:23   Pearson chi2:                     26.1\n",
       "No. Iterations:                     4                                         \n",
       "Covariance Type:            nonrobust                                         \n",
       "==============================================================================\n",
       "                 coef    std err          z      P>|z|      [0.025      0.975]\n",
       "------------------------------------------------------------------------------\n",
       "const          0.3079      0.289      1.064      0.287      -0.259       0.875\n",
       "x              0.0764      0.017      4.413      0.000       0.042       0.110\n",
       "==============================================================================\n",
       "\"\"\""
      ]
     },
     "execution_count": 15,
     "metadata": {},
     "output_type": "execute_result"
    }
   ],
   "source": [
    "logistic_model = sm.GLM(endog, sm.add_constant(exog), family=sm.families.Poisson())\n",
    "results = logistic_model.fit()\n",
    "results.summary()"
   ]
  }
 ],
 "metadata": {
  "kernelspec": {
   "display_name": "Python 3",
   "language": "python",
   "name": "python3"
  },
  "language_info": {
   "codemirror_mode": {
    "name": "ipython",
    "version": 3
   },
   "file_extension": ".py",
   "mimetype": "text/x-python",
   "name": "python",
   "nbconvert_exporter": "python",
   "pygments_lexer": "ipython3",
   "version": "3.7.6"
  }
 },
 "nbformat": 4,
 "nbformat_minor": 2
}
