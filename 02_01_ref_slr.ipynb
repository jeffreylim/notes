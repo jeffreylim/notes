{
 "cells": [
  {
   "cell_type": "markdown",
   "metadata": {},
   "source": [
    "<div class=\"alert alert-block alert-danger\">\n",
    "    \n",
    "### Notes\n",
    "\n",
    "</div>\n",
    "\n",
    "### Linear regression, Numerical python, $ \\ldots $."
   ]
  },
  {
   "cell_type": "markdown",
   "metadata": {},
   "source": [
    "***\n",
    "\n",
    "##### Matrix approach\n",
    "\n",
    "minimize $\\mathcal{L}_{X,Y}(\\beta) := \\parallel X\\beta - Y \\parallel_2$\n",
    "\n",
    "$\n",
    "\\begin{align}\n",
    "\\mathcal{L}_{X,Y}(\\beta) :&= \\parallel X\\beta - Y \\parallel_2 \\\\\n",
    "&= (X\\beta - Y) \\cdot (X\\beta-Y) \\\\\n",
    "&= (X\\beta-Y)^T(X\\beta-Y) = (\\beta^TX^T-Y^T)(X\\beta-Y) \\\\\n",
    "&= \\beta^T X^T X \\beta - \\beta^T X^T Y - Y^T X \\beta + Y^T Y \\\\\n",
    "\\end{align}\n",
    "$\n",
    "\n",
    "$\n",
    "\\begin{align}\n",
    "\\frac{\\partial{\\mathcal{L}}}{\\partial\\beta} &= X^T X \\beta \\frac{\\partial\\beta^T}{\\partial\\beta} + \\beta^T X^T X - X^T Y \\frac{\\partial\\beta^T}{\\partial\\beta} - Y^T X \\\\\n",
    "&= 2 \\beta^T X^T X - 2 Y^T X \\\\\n",
    "\\end{align}\n",
    "$\n",
    "\n",
    "$ \\frac{\\partial{\\mathcal{L}}}{\\partial{\\beta}} = 0 \\implies \\beta^T X^T X = Y^T X $\n",
    "\n",
    "$ \\beta = (X^T X)^{-1} X^T Y $\n",
    "\n",
    "***"
   ]
  },
  {
   "cell_type": "markdown",
   "metadata": {},
   "source": [
    "##### Inner product spaces\n",
    "\n",
    "Let $\\mathbf{Y}$ be the inner product space of $C^0$ functions and $\\mathbf{P}_n$ be the linear subspace of polynomials with degree $\\leq n$.\n",
    "\n",
    "minimize $\\Sigma_{i=1}^n (y_i - p(x_i))^2 = \\langle y - p , y - p \\rangle = \\| y - p \\|^2$\n",
    "\n",
    "Let $\\{ p_i \\}$ be an orthonormal basis for $\\mathbf{P}(x)$, then $\\forall p(x) \\in \\mathbf{P}(x)$, there exists unique coordinate vectors $\\{ c_i \\}$ such that $\\Sigma_{i=1}^n c_i p_i(x) = p(x)$.\n",
    "\n",
    "Claim: $c_i = \\langle y, p_i \\rangle$\n",
    "\n",
    "$\n",
    "\\begin{align}\n",
    "\\| y - p \\|^2 &= \\langle y-p, y-p \\rangle \\\\\n",
    "&= \\langle y-\\Sigma c_i p_i , y-\\Sigma c_i p_i \\rangle \\\\\n",
    "&= \\Sigma (c_i)^2 - 2\\Sigma c_i \\langle y, p_i \\rangle + \\langle y,y \\rangle \\\\\n",
    "&= \\langle \\mathbf{c}, \\mathbf{c} \\rangle - 2 \\langle \\mathbf{c}, \\mathbf{d} \\rangle + \\langle y,y \\rangle \\\\\n",
    "\\end{align}\n",
    "$\n",
    "\n",
    "minimizing $\\| y - p \\|^2 \\implies c_i = \\langle y,p_i \\rangle$\n",
    "\n",
    "***"
   ]
  },
  {
   "cell_type": "markdown",
   "metadata": {},
   "source": [
    "##### Least Squares\n",
    "\n",
    "$\n",
    "\\begin{align}\n",
    "\\text{minimize } rss &= \\sum_{\\forall_i} (y_i - \\hat{y_i})^2 \\\\\n",
    "&= \\sum_{\\forall_i} (y_i - \\beta_0 - \\beta_1(x_i - \\bar{x}))^2 \\\\\n",
    "\\end{align}\n",
    "$\n",
    "\n",
    "$\n",
    "\\begin{align}\n",
    "\\frac{\\partial rss}{\\partial \\beta_0} &= -2 (y_i - \\beta_0 - \\beta_1(x_i - \\bar{x})) \\implies \\beta_0 = \\bar{y}\\\\\n",
    "\\frac{\\partial rss}{\\partial \\beta_1} &= -2 (y_i - \\beta_0 - \\beta_1(x_i - \\bar{x})) (x_i - \\bar{x}) \\implies \\beta_1=\\frac{\\sigma_{xy}}{\\sigma_{x^2}} \\\\\n",
    "\\end{align}\n",
    "$\n",
    "\n",
    "***"
   ]
  },
  {
   "cell_type": "markdown",
   "metadata": {},
   "source": [
    "##### Maximum Likelihood Estimates\n",
    "\n",
    "$\n",
    "\\begin{align}\n",
    "\\epsilon_i &\\sim \\mathcal{N}(0, \\sigma^2), \\forall_{i} \\\\\n",
    "y_i &= \\beta_0 + \\beta_1(x_i - \\bar{x}) + \\epsilon_i \\\\\n",
    "y_i &\\sim \\mathcal{N}(\\beta_0 + \\beta_1(x_i - \\bar{x}), \\sigma^2) \\\\\n",
    "L(\\beta_0, \\beta_1) &= \\prod_{\\forall_i} \\frac{1}{\\sigma \\sqrt{2 \\pi}} e^{-\\frac{(y_i-\\beta_0-\\beta_1(x_i-\\bar{x}))^2}{2 \\sigma^2}}  \\\\\n",
    "\\mathcal{l}(\\beta_0, \\beta_1) &= -nlog(\\sigma) - (\\frac{n}{2})log(2\\pi) - \\frac{1}{2\\sigma^2} \\sum_{\\forall_i} (y_i - \\beta_0 - \\beta_1(x_i - \\bar{x}))^2 \\\\\n",
    "\\end{align}\n",
    "$\n",
    "\n",
    "$\n",
    "\\begin{align}\n",
    "\\text{maximizing } \\mathcal{l}(\\beta_0, \\beta_1) &\\equiv \\text{minimizing } \\sum_{\\forall_i} (y_i - \\beta_0 - \\beta_1(x_i - \\bar{x}))^2 \\\\\n",
    "&\\equiv \\text{ least squares estimates}\n",
    "\\end{align}\n",
    "$\n",
    "\n",
    "***"
   ]
  },
  {
   "cell_type": "markdown",
   "metadata": {},
   "source": [
    "##### Geometric interpretation in $\\mathbb{R}^2$\n",
    "\n",
    "Arbitrary line $y_0 - \\mu_y = \\delta(x_0 - \\mu_X) $ passing through $ ( \\mu_X, \\mu_Y ) $ with gradient $\\beta$\n",
    "\n",
    "WTS: $\\beta$ which minimizes $ \\mathbb{E}[[(Y - \\mu_y)-\\beta(X - \\mu_X)]^2] $\n",
    "\n",
    "$\n",
    "\\begin{align}\n",
    "f \\bigl( \\beta \\bigr) &= \\mathbb{E}[\\bigl( (Y-\\mu_Y) - \\delta(X-\\mu_X) \\bigr)^2 ] \\\\\n",
    "&= \\mathbb{E}[(Y-\\mu_Y)^2] - 2\\beta \\mathbb{E}[(X-\\mu_X)(Y-\\mu_Y)] + \\beta^2 \\mathbb{E}[(X-\\mu_x)^2] \\\\\n",
    "&= \\sigma^2_Y - 2 \\beta \\sigma_{XY} + \\beta^2 \\sigma^2_{X}\n",
    "\\end{align}\n",
    "$\n",
    "\n",
    "$ f^\\prime (\\beta) = -2 \\sigma_{XY} + 2 \\beta \\sigma^2_{x} $\n",
    "\n",
    "$ f^\\prime (\\beta) = 0 \\implies \\beta = \\frac{\\sigma_{XY}}{\\sigma^2_X} = \\rho_{XY} \\frac{\\sigma_Y}{\\sigma_X}$\n",
    "\n",
    "$\\sigma_{Y\\mid x}^2$ follows from definition of variance and $f(\\beta)$\n",
    "\n",
    "$ Y \\mid X \\sim \\mathcal{N}\\bigl( \\mu_Y + \\rho_{XY} \\frac{\\sigma_Y}{\\sigma_X}(X-\\mu_X) \\text{, } \\sigma^2_Y (1-\\rho_{XY}^2) \\bigr) $\n",
    "\n",
    "***"
   ]
  },
  {
   "cell_type": "markdown",
   "metadata": {},
   "source": [
    "##### Assumptions\n",
    "\n",
    "- $\\mathbb{E}[Y \\mid X]$ is linear.\n",
    "\n",
    "- $\\forall_i$, $\\epsilon_i \\sim N(0, \\sigma^2)$. Independent and normally distributed with equal variances.\n",
    "\n",
    "<hr/>\n",
    "If the assumptions hold, then the maximum likelihood estimators of the regression coefficients are similar to the least squares estimators.\n",
    "\n",
    "$\n",
    "\\begin{align}\n",
    "\\epsilon_i \\sim \\mathcal{N}(0, \\sigma^2), \\forall_i \\\\\n",
    "y_i = \\beta_0 + \\beta_1 x_i + \\epsilon_i \\\\\n",
    "y_i \\sim \\mathcal{N}(\\beta_0 + \\beta_1 x_i, \\sigma^2) \\\\\n",
    "L(\\beta_0, \\beta_1, \\sigma^2) = \\Pi_{\\forall_i} \\frac{1}{\\sigma \\sqrt{2 \\pi}} e^{-\\frac{(x-\\beta_0-\\beta_1 x_i)^2}{2 \\sigma^2}} \\\\\n",
    "log(L) = -\\frac{n}{2} log(2\\pi) - \\frac{n}{2} log(\\sigma^2) - \\frac{1}{2 \\sigma^2} \\Sigma_{\\forall_i} (y_i - \\beta_0 - \\beta_1 x_i)^2 \\\\\n",
    "\\text{maximizing } log(L) \\equiv \\text{minimizing } \\Sigma_{\\forall_i} (y_i - \\beta_0 - \\beta_1 x_i)^2 \\\\\n",
    "\\end{align}\n",
    "$\n",
    "\n",
    "<hr/>\n",
    "\n",
    "Maximum likelihood estimator of $\\sigma^2$ is biased. $\\hat{\\sigma}^2 = \\frac{\\sum_{i=1}^{n} (y_i - \\hat{y_i})^2}{n}$\n",
    "\n",
    "Unbiased maximum likelihood estimator of $\\sigma^2$. $MSE = \\hat{\\sigma}^2 = \\frac{\\sum_{i=1}^{n} (y_i - \\hat{y_i})^2}{n-p}$\n",
    "\n",
    "<hr/>\n",
    "\n",
    "$SSR  := \\sum_{i=1}^n (\\hat{y_i} - \\bar{y})^2$\n",
    "\n",
    "$SSE  := \\sum_{i=1}^n (y_i - \\hat{y_i})^2$\n",
    "\n",
    "$SSTO := \\sum_{i=1}^n (y_i - \\bar{y})^2 = SSR + SSE$\n",
    "\n",
    "$r^2 = \\frac{SSR}{SSTO} = 1 - \\frac{SSE}{SSTO}$\n",
    "\n",
    "<hr/>\n",
    "\n",
    "##### Gauss-Markov Theorem\n",
    "- asserts that the least squares estimates of the parameters β have the smallest variance among all linear\n",
    "unbiased estimates.\n",
    "\n",
    "<hr/>"
   ]
  },
  {
   "cell_type": "code",
   "execution_count": 1,
   "metadata": {},
   "outputs": [],
   "source": [
    "%matplotlib inline"
   ]
  },
  {
   "cell_type": "code",
   "execution_count": 2,
   "metadata": {},
   "outputs": [],
   "source": [
    "import numpy as np\n",
    "import pandas as pd\n",
    "import matplotlib.pyplot as plt\n",
    "import seaborn as sb\n",
    "\n",
    "import statsmodels.api as sm\n",
    "import statsmodels.formula.api as smf\n",
    "\n",
    "from scipy import stats\n",
    "\n",
    "from statsmodels.tsa.stattools import acf"
   ]
  },
  {
   "cell_type": "code",
   "execution_count": 3,
   "metadata": {},
   "outputs": [],
   "source": [
    "plt.close('all')\n",
    "\n",
    "np.random.seed(1234)"
   ]
  },
  {
   "cell_type": "markdown",
   "metadata": {},
   "source": [
    "<hr/>\n",
    "\n",
    "<div class=\"alert alert-block alert-info\">\n",
    "Dataset\n",
    "</div>"
   ]
  },
  {
   "cell_type": "code",
   "execution_count": 4,
   "metadata": {},
   "outputs": [
    {
     "data": {
      "text/html": [
       "<div>\n",
       "<style scoped>\n",
       "    .dataframe tbody tr th:only-of-type {\n",
       "        vertical-align: middle;\n",
       "    }\n",
       "\n",
       "    .dataframe tbody tr th {\n",
       "        vertical-align: top;\n",
       "    }\n",
       "\n",
       "    .dataframe thead th {\n",
       "        text-align: right;\n",
       "    }\n",
       "</style>\n",
       "<table border=\"1\" class=\"dataframe\">\n",
       "  <thead>\n",
       "    <tr style=\"text-align: right;\">\n",
       "      <th></th>\n",
       "      <th>X</th>\n",
       "      <th>Y</th>\n",
       "    </tr>\n",
       "  </thead>\n",
       "  <tbody>\n",
       "    <tr>\n",
       "      <th>0</th>\n",
       "      <td>0.000000</td>\n",
       "      <td>2.357176</td>\n",
       "    </tr>\n",
       "    <tr>\n",
       "      <th>1</th>\n",
       "      <td>1.010101</td>\n",
       "      <td>-3.934676</td>\n",
       "    </tr>\n",
       "    <tr>\n",
       "      <th>2</th>\n",
       "      <td>2.020202</td>\n",
       "      <td>11.203939</td>\n",
       "    </tr>\n",
       "    <tr>\n",
       "      <th>3</th>\n",
       "      <td>3.030303</td>\n",
       "      <td>4.497347</td>\n",
       "    </tr>\n",
       "    <tr>\n",
       "      <th>4</th>\n",
       "      <td>4.040404</td>\n",
       "      <td>4.477864</td>\n",
       "    </tr>\n",
       "  </tbody>\n",
       "</table>\n",
       "</div>"
      ],
      "text/plain": [
       "          X          Y\n",
       "0  0.000000   2.357176\n",
       "1  1.010101  -3.934676\n",
       "2  2.020202  11.203939\n",
       "3  3.030303   4.497347\n",
       "4  4.040404   4.477864"
      ]
     },
     "execution_count": 4,
     "metadata": {},
     "output_type": "execute_result"
    }
   ],
   "source": [
    "X = np.linspace(0, 100, 100)\n",
    "Y = 2 * X + np.random.normal(loc=0, scale=5, size=(100))\n",
    "data = pd.DataFrame({'X':X, 'Y':Y})\n",
    "data.head()"
   ]
  },
  {
   "cell_type": "code",
   "execution_count": 5,
   "metadata": {},
   "outputs": [
    {
     "data": {
      "text/html": [
       "<table class=\"simpletable\">\n",
       "<caption>OLS Regression Results</caption>\n",
       "<tr>\n",
       "  <th>Dep. Variable:</th>            <td>Y</td>        <th>  R-squared:         </th> <td>   0.993</td> \n",
       "</tr>\n",
       "<tr>\n",
       "  <th>Model:</th>                   <td>OLS</td>       <th>  Adj. R-squared:    </th> <td>   0.993</td> \n",
       "</tr>\n",
       "<tr>\n",
       "  <th>Method:</th>             <td>Least Squares</td>  <th>  F-statistic:       </th> <td>1.341e+04</td>\n",
       "</tr>\n",
       "<tr>\n",
       "  <th>Date:</th>             <td>Sat, 14 Mar 2020</td> <th>  Prob (F-statistic):</th> <td>1.22e-106</td>\n",
       "</tr>\n",
       "<tr>\n",
       "  <th>Time:</th>                 <td>00:23:17</td>     <th>  Log-Likelihood:    </th> <td> -302.38</td> \n",
       "</tr>\n",
       "<tr>\n",
       "  <th>No. Observations:</th>      <td>   100</td>      <th>  AIC:               </th> <td>   608.8</td> \n",
       "</tr>\n",
       "<tr>\n",
       "  <th>Df Residuals:</th>          <td>    98</td>      <th>  BIC:               </th> <td>   614.0</td> \n",
       "</tr>\n",
       "<tr>\n",
       "  <th>Df Model:</th>              <td>     1</td>      <th>                     </th>     <td> </td>    \n",
       "</tr>\n",
       "<tr>\n",
       "  <th>Covariance Type:</th>      <td>nonrobust</td>    <th>                     </th>     <td> </td>    \n",
       "</tr>\n",
       "</table>\n",
       "<table class=\"simpletable\">\n",
       "<tr>\n",
       "      <td></td>         <th>coef</th>     <th>std err</th>      <th>t</th>      <th>P>|t|</th>  <th>[0.025</th>    <th>0.975]</th>  \n",
       "</tr>\n",
       "<tr>\n",
       "  <th>Intercept</th> <td>    0.3478</td> <td>    0.998</td> <td>    0.348</td> <td> 0.728</td> <td>   -1.633</td> <td>    2.328</td>\n",
       "</tr>\n",
       "<tr>\n",
       "  <th>X</th>         <td>    1.9966</td> <td>    0.017</td> <td>  115.783</td> <td> 0.000</td> <td>    1.962</td> <td>    2.031</td>\n",
       "</tr>\n",
       "</table>\n",
       "<table class=\"simpletable\">\n",
       "<tr>\n",
       "  <th>Omnibus:</th>       <td>10.734</td> <th>  Durbin-Watson:     </th> <td>   2.430</td>\n",
       "</tr>\n",
       "<tr>\n",
       "  <th>Prob(Omnibus):</th> <td> 0.005</td> <th>  Jarque-Bera (JB):  </th> <td>  11.741</td>\n",
       "</tr>\n",
       "<tr>\n",
       "  <th>Skew:</th>          <td>-0.640</td> <th>  Prob(JB):          </th> <td> 0.00282</td>\n",
       "</tr>\n",
       "<tr>\n",
       "  <th>Kurtosis:</th>      <td> 4.086</td> <th>  Cond. No.          </th> <td>    115.</td>\n",
       "</tr>\n",
       "</table><br/><br/>Warnings:<br/>[1] Standard Errors assume that the covariance matrix of the errors is correctly specified."
      ],
      "text/plain": [
       "<class 'statsmodels.iolib.summary.Summary'>\n",
       "\"\"\"\n",
       "                            OLS Regression Results                            \n",
       "==============================================================================\n",
       "Dep. Variable:                      Y   R-squared:                       0.993\n",
       "Model:                            OLS   Adj. R-squared:                  0.993\n",
       "Method:                 Least Squares   F-statistic:                 1.341e+04\n",
       "Date:                Sat, 14 Mar 2020   Prob (F-statistic):          1.22e-106\n",
       "Time:                        00:23:17   Log-Likelihood:                -302.38\n",
       "No. Observations:                 100   AIC:                             608.8\n",
       "Df Residuals:                      98   BIC:                             614.0\n",
       "Df Model:                           1                                         \n",
       "Covariance Type:            nonrobust                                         \n",
       "==============================================================================\n",
       "                 coef    std err          t      P>|t|      [0.025      0.975]\n",
       "------------------------------------------------------------------------------\n",
       "Intercept      0.3478      0.998      0.348      0.728      -1.633       2.328\n",
       "X              1.9966      0.017    115.783      0.000       1.962       2.031\n",
       "==============================================================================\n",
       "Omnibus:                       10.734   Durbin-Watson:                   2.430\n",
       "Prob(Omnibus):                  0.005   Jarque-Bera (JB):               11.741\n",
       "Skew:                          -0.640   Prob(JB):                      0.00282\n",
       "Kurtosis:                       4.086   Cond. No.                         115.\n",
       "==============================================================================\n",
       "\n",
       "Warnings:\n",
       "[1] Standard Errors assume that the covariance matrix of the errors is correctly specified.\n",
       "\"\"\""
      ]
     },
     "execution_count": 5,
     "metadata": {},
     "output_type": "execute_result"
    }
   ],
   "source": [
    "linreg = smf.ols('Y ~ X', data=data).fit()\n",
    "linreg.summary()"
   ]
  },
  {
   "cell_type": "code",
   "execution_count": 6,
   "metadata": {},
   "outputs": [
    {
     "data": {
      "text/html": [
       "<div>\n",
       "<style scoped>\n",
       "    .dataframe tbody tr th:only-of-type {\n",
       "        vertical-align: middle;\n",
       "    }\n",
       "\n",
       "    .dataframe tbody tr th {\n",
       "        vertical-align: top;\n",
       "    }\n",
       "\n",
       "    .dataframe thead th {\n",
       "        text-align: right;\n",
       "    }\n",
       "</style>\n",
       "<table border=\"1\" class=\"dataframe\">\n",
       "  <thead>\n",
       "    <tr style=\"text-align: right;\">\n",
       "      <th></th>\n",
       "      <th>df</th>\n",
       "      <th>sum_sq</th>\n",
       "      <th>mean_sq</th>\n",
       "      <th>F</th>\n",
       "      <th>PR(&gt;F)</th>\n",
       "    </tr>\n",
       "  </thead>\n",
       "  <tbody>\n",
       "    <tr>\n",
       "      <th>X</th>\n",
       "      <td>1.0</td>\n",
       "      <td>338896.903263</td>\n",
       "      <td>338896.903263</td>\n",
       "      <td>13405.613053</td>\n",
       "      <td>1.215619e-106</td>\n",
       "    </tr>\n",
       "    <tr>\n",
       "      <th>Residual</th>\n",
       "      <td>98.0</td>\n",
       "      <td>2477.461970</td>\n",
       "      <td>25.280224</td>\n",
       "      <td>NaN</td>\n",
       "      <td>NaN</td>\n",
       "    </tr>\n",
       "  </tbody>\n",
       "</table>\n",
       "</div>"
      ],
      "text/plain": [
       "            df         sum_sq        mean_sq             F         PR(>F)\n",
       "X          1.0  338896.903263  338896.903263  13405.613053  1.215619e-106\n",
       "Residual  98.0    2477.461970      25.280224           NaN            NaN"
      ]
     },
     "execution_count": 6,
     "metadata": {},
     "output_type": "execute_result"
    }
   ],
   "source": [
    "sm.stats.anova_lm(linreg, typ=1)"
   ]
  },
  {
   "cell_type": "markdown",
   "metadata": {},
   "source": [
    "***\n",
    "\n",
    "T-test for $\\beta_1$ and $\\beta_0$\n",
    "\n",
    "$H_0 : \\beta_1 = \\beta_1^\\prime$, $\\beta_0 = \\beta_0^\\prime$\n",
    "\n",
    "$H_A : o.w.$\n",
    "\n",
    "$t = \\frac{\\beta_{{0,1}} - \\beta_{0,1}^\\prime}{\\sigma(\\beta_{0,1})}$\n",
    "\n",
    "***\n",
    "\n",
    "ANOVA F-test for $\\beta_1$\n",
    "\n",
    "$H_0 : \\beta_1 = 0$\n",
    "\n",
    "$H_A : \\beta_1 \\neq 0$\n",
    "\n",
    "$F = \\frac{MSR}{MSE}$\n",
    "\n",
    "***\n",
    "\n",
    "ANOVA $F$-test for $\\beta_1$ is equivalent to the two-tailed $T$-test for simple linear regression.\n",
    "\n",
    "***"
   ]
  },
  {
   "cell_type": "code",
   "execution_count": 7,
   "metadata": {},
   "outputs": [
    {
     "data": {
      "image/png": "[encoded data removed]",
      "text/plain": [
       "<Figure size 1080x720 with 2 Axes>"
      ]
     },
     "metadata": {
      "needs_background": "light"
     },
     "output_type": "display_data"
    }
   ],
   "source": [
    "plt.figure(figsize=(15, 10))\n",
    "\n",
    "plt.subplot(1,2,1)\n",
    "plt.scatter(data['X'], data['Y'])\n",
    "plt.plot(data['X'], linreg.fittedvalues)\n",
    "plt.xlabel('X'), plt.ylabel('Y')\n",
    "\n",
    "plt.subplot(1,2,2)\n",
    "sb.regplot(data['X'], data['Y']);"
   ]
  },
  {
   "cell_type": "markdown",
   "metadata": {},
   "source": [
    "***\n",
    "\n",
    "#### Residuals vs Fits"
   ]
  },
  {
   "cell_type": "code",
   "execution_count": 8,
   "metadata": {},
   "outputs": [
    {
     "data": {
      "image/png": "[encoded data removed]",
      "text/plain": [
       "<Figure size 1080x720 with 2 Axes>"
      ]
     },
     "metadata": {
      "needs_background": "light"
     },
     "output_type": "display_data"
    }
   ],
   "source": [
    "plt.figure(figsize=(15, 10))\n",
    "\n",
    "plt.subplot(1,2,1)\n",
    "plt.scatter(linreg.fittedvalues, linreg.resid)\n",
    "plt.title('Residuals vs Fits')\n",
    "plt.axhline(color='r')\n",
    "plt.xlabel('fitted values'), plt.ylabel('residuals')\n",
    "\n",
    "plt.subplot(1,2,2)\n",
    "plt.scatter(data['X'], linreg.resid)\n",
    "plt.title('Residuals vs Predictors\\n (no new info - useful in MLR)')\n",
    "plt.axhline(color='r')\n",
    "plt.xlabel('predictors'), plt.ylabel('residuals');"
   ]
  },
  {
   "cell_type": "markdown",
   "metadata": {},
   "source": [
    "***\n",
    "\n",
    "#### Normality of residuals"
   ]
  },
  {
   "cell_type": "code",
   "execution_count": 9,
   "metadata": {},
   "outputs": [
    {
     "data": {
      "image/png": "[encoded data removed]",
      "text/plain": [
       "<Figure size 1440x576 with 3 Axes>"
      ]
     },
     "metadata": {
      "needs_background": "light"
     },
     "output_type": "display_data"
    }
   ],
   "source": [
    "fig = plt.figure(figsize=(20,8))\n",
    "\n",
    "ax1 = fig.add_subplot(131)\n",
    "prob = stats.probplot(linreg.resid, dist=stats.norm, plot=ax1)\n",
    "ax1.set_title('Probplot of residuals');\n",
    "\n",
    "ax2 = fig.add_subplot(132)\n",
    "linreg.resid.plot.box()\n",
    "ax2.set_title('Boxplot of residuals')\n",
    "\n",
    "ax3 = fig.add_subplot(133)\n",
    "linreg.resid.hist(bins=20, edgecolor='k')\n",
    "ax3.set_title('Histogram of residuals');"
   ]
  },
  {
   "cell_type": "markdown",
   "metadata": {},
   "source": [
    "***\n",
    "\n",
    "##### Jarque-Bera, Shapiro-Wilk tests for normality of residuals.\n",
    "\n",
    "$H_0 :$ Data is normally distributed\n",
    "\n",
    "$H_A : o.w.$"
   ]
  },
  {
   "cell_type": "code",
   "execution_count": 10,
   "metadata": {},
   "outputs": [
    {
     "name": "stdout",
     "output_type": "stream",
     "text": [
      "Jarque-Bera tvalue: 11.741140095251831, pvalue: 0.002821264620338289\n"
     ]
    }
   ],
   "source": [
    "tvalue, pvalue, _, _ = sm.stats.jarque_bera(linreg.resid)\n",
    "print('Jarque-Bera tvalue: {}, pvalue: {}'.format(tvalue, pvalue))"
   ]
  },
  {
   "cell_type": "code",
   "execution_count": 11,
   "metadata": {},
   "outputs": [
    {
     "name": "stdout",
     "output_type": "stream",
     "text": [
      "Shapiro-Wilk tvalue: 0.9736341238021851, pvalue: 0.04220518097281456\n"
     ]
    }
   ],
   "source": [
    "tvalue, pvalue = stats.shapiro(linreg.resid)\n",
    "print('Shapiro-Wilk tvalue: {}, pvalue: {}'.format(tvalue, pvalue))"
   ]
  },
  {
   "cell_type": "markdown",
   "metadata": {},
   "source": [
    "***\n",
    "\n",
    "##### Breusch-Pagan test for heteroskedasticity vs homoskedasticity.\n",
    "\n",
    "$H_0 :$ homoskedasticity\n",
    "\n",
    "$H_A :$ heteroskedasticity"
   ]
  },
  {
   "cell_type": "code",
   "execution_count": 12,
   "metadata": {},
   "outputs": [
    {
     "name": "stdout",
     "output_type": "stream",
     "text": [
      "Breusch-Pagan tvalue: 0.00022983795778808158, pvalue: 0.98790420820892\n"
     ]
    }
   ],
   "source": [
    "tvalue, pvalue, _, _ = sm.stats.diagnostic.het_breuschpagan(linreg.resid, linreg.model.exog)\n",
    "print('Breusch-Pagan tvalue: {}, pvalue: {}'.format(tvalue, pvalue))"
   ]
  },
  {
   "cell_type": "markdown",
   "metadata": {},
   "source": [
    "***\n",
    "\n",
    "##### Durbin-Watson test for independence vs autocorrelation.\n",
    "\n",
    "$H_0 :$ Serially uncorrelated\n",
    "\n",
    "$H_A :$ AR1 autocorrelation"
   ]
  },
  {
   "cell_type": "code",
   "execution_count": 13,
   "metadata": {},
   "outputs": [
    {
     "data": {
      "text/plain": [
       "2.430389552316265"
      ]
     },
     "execution_count": 13,
     "metadata": {},
     "output_type": "execute_result"
    }
   ],
   "source": [
    "sm.stats.stattools.durbin_watson(linreg.resid)"
   ]
  },
  {
   "cell_type": "code",
   "execution_count": 14,
   "metadata": {},
   "outputs": [
    {
     "data": {
      "image/png": "[encoded data removed]",
      "text/plain": [
       "<Figure size 2160x360 with 1 Axes>"
      ]
     },
     "metadata": {
      "needs_background": "light"
     },
     "output_type": "display_data"
    }
   ],
   "source": [
    "plt.figure(figsize=(30,5))\n",
    "plt.scatter(range(1, len(data)+1), linreg.resid)\n",
    "plt.axhline(color='red')\n",
    "plt.xlabel('Time')\n",
    "plt.ylabel('Residuals')\n",
    "plt.title('Residuals vs Order');"
   ]
  },
  {
   "cell_type": "code",
   "execution_count": 15,
   "metadata": {},
   "outputs": [
    {
     "data": {
      "image/png": "[encoded data removed]",
      "text/plain": [
       "<Figure size 576x576 with 1 Axes>"
      ]
     },
     "metadata": {
      "needs_background": "light"
     },
     "output_type": "display_data"
    }
   ],
   "source": [
    "acf_residuals = acf(linreg.resid)\n",
    "domain_acf_residuals = np.arange(0, len(acf_residuals))\n",
    "\n",
    "plt.figure(figsize=(8, 8))\n",
    "plt.scatter(domain_acf_residuals, acf_residuals)\n",
    "plt.bar(domain_acf_residuals, acf_residuals, width=0.1)\n",
    "plt.hlines(0.2, 0, len(domain_acf_residuals), linestyles='dashed', colors='b')\n",
    "plt.hlines(-0.2, 0, len(domain_acf_residuals), linestyles='dashed', colors='b')\n",
    "plt.axhline()\n",
    "plt.xlabel('Lag'), plt.ylabel('ACF')\n",
    "plt.title('Correlogram of the residuals');"
   ]
  },
  {
   "cell_type": "markdown",
   "metadata": {},
   "source": [
    "***\n",
    "\n",
    "##### Tukey-test.\n",
    "\n",
    "$[Q_{0.25} - 1.5 \\times IQR, Q_{0.75} + 1.5 \\times IQR]$"
   ]
  },
  {
   "cell_type": "code",
   "execution_count": 16,
   "metadata": {},
   "outputs": [
    {
     "name": "stdout",
     "output_type": "stream",
     "text": [
      "Tukey's test interval: [-11.63516687466579, 12.528259072878882]\n",
      "Tukey's outliers:  [-12.123896691489406, -17.88353916160395]\n"
     ]
    }
   ],
   "source": [
    "first_quantile, third_quantile = np.quantile(linreg.resid.sort_values(), [0.25, 0.75])\n",
    "interquantile_range = third_quantile - first_quantile\n",
    "tukey_lowerbound, tukey_upperbound = first_quantile - 1.5 * interquantile_range, third_quantile + 1.5 * interquantile_range\n",
    "tukey_outliers = [x for x in linreg.resid if x < tukey_lowerbound or x > tukey_upperbound]\n",
    "        \n",
    "print('Tukey\\'s test interval: [{}, {}]'.format(tukey_lowerbound, tukey_upperbound))\n",
    "print('Tukey\\'s outliers: ', tukey_outliers)"
   ]
  }
 ],
 "metadata": {
  "kernelspec": {
   "display_name": "Python 3",
   "language": "python",
   "name": "python3"
  },
  "language_info": {
   "codemirror_mode": {
    "name": "ipython",
    "version": 3
   },
   "file_extension": ".py",
   "mimetype": "text/x-python",
   "name": "python",
   "nbconvert_exporter": "python",
   "pygments_lexer": "ipython3",
   "version": "3.7.6"
  }
 },
 "nbformat": 4,
 "nbformat_minor": 2
}
