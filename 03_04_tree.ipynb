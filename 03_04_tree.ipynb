{
 "cells": [
  {
   "cell_type": "markdown",
   "metadata": {},
   "source": [
    "<div class=\"alert alert-block alert-danger\">\n",
    "    \n",
    "### Notes\n",
    "\n",
    "</div>\n",
    "\n",
    "### Decision Trees, Random Forests, Numerical python, $ \\ldots $."
   ]
  },
  {
   "cell_type": "markdown",
   "metadata": {},
   "source": [
    "#### Classification trees:\n",
    "\n",
    "##### Impurity measures:\n",
    " - Information Gain\n",
    " - Gini Index\n",
    " - $\\chi^2$\n",
    " - $\\ldots$\n",
    " \n",
    "***\n",
    "Let $X$ be a random variable.\n",
    "\n",
    "Shannon's entropy $\\mathcal{H}(X) := \\mathbb{E}[I(X)] = \\mathbb{E}[-log_2 (P(X))] = - \\sum_{\\forall x \\in X} p(x) log_2 p(x)$\n",
    "\n",
    "***\n",
    "\n",
    "Let $\\mathbf{D}$ be of size $n \\times p$\n",
    "\n",
    "Let $\\{C_k\\}_{k=1}^m$  be the set of classifications.\n",
    "\n",
    "Shannon's entropy $\\mathcal{H}(\\{C_k\\}_{\\forall k}) = -\\sum_{\\forall k} P(C_k) \\log_2 P(C_k)$\n",
    "\n",
    "\n",
    "For each predictor $i \\in [1, p]$:\n",
    "\n",
    " - Let $\\Omega_i$ be the sample space.\n",
    "\n",
    "\n",
    " - $\\mathcal{H}_{\\Omega_i} = \\sum_{\\forall t \\in \\Omega_i} p(t) \\sum_{\\forall (C_k \\mid t)} (-p(C_k \\mid t) log_2 p(C_k \\mid t))$\n",
    "\n",
    "\n",
    " - $\\text{InformationGain}(C, i) := \\mathcal{H}(\\{C_k\\}_{\\forall k}) - \\mathcal{H}(\\Omega_i)$\n",
    "\n",
    "Split at predictor $i$ with maximum $\\text{InformationGain}(C, i)$, $\\forall_i$\n",
    "\n",
    "\n",
    "***\n",
    "\n",
    "#### Regression trees:\n",
    "\n",
    "- ##### Reduction of variance using unbiased estimator $s^2$ for $\\sigma^2$\n",
    "\n",
    "***\n",
    "\n",
    "#### Random Forests:\n",
    "\n",
    "- ##### Bagging (Bootstrap Aggregation) and subspace sampling.\n",
    "\n",
    "***"
   ]
  },
  {
   "cell_type": "code",
   "execution_count": 1,
   "metadata": {},
   "outputs": [],
   "source": [
    "%matplotlib inline"
   ]
  },
  {
   "cell_type": "code",
   "execution_count": 2,
   "metadata": {},
   "outputs": [],
   "source": [
    "import numpy as np\n",
    "import pandas as pd\n",
    "import matplotlib.pyplot as plt\n",
    "import seaborn as sb"
   ]
  },
  {
   "cell_type": "code",
   "execution_count": 3,
   "metadata": {},
   "outputs": [],
   "source": [
    "from sklearn.tree import DecisionTreeClassifier, export_graphviz\n",
    "from sklearn.ensemble import RandomForestClassifier\n",
    "from sklearn.model_selection import train_test_split, cross_val_score\n",
    "from sklearn.metrics import confusion_matrix\n",
    "from sklearn.decomposition import PCA\n",
    "from sklearn.preprocessing import StandardScaler"
   ]
  },
  {
   "cell_type": "code",
   "execution_count": 4,
   "metadata": {},
   "outputs": [],
   "source": [
    "plt.close('all')\n",
    "np.random.seed(1234)\n",
    "\n",
    "import warnings\n",
    "warnings.simplefilter(action='ignore', category=FutureWarning)"
   ]
  },
  {
   "cell_type": "markdown",
   "metadata": {},
   "source": [
    "***"
   ]
  },
  {
   "cell_type": "code",
   "execution_count": 5,
   "metadata": {},
   "outputs": [
    {
     "name": "stdout",
     "output_type": "stream",
     "text": [
      "(768, 9)\n"
     ]
    },
    {
     "data": {
      "text/html": [
       "<div>\n",
       "<style scoped>\n",
       "    .dataframe tbody tr th:only-of-type {\n",
       "        vertical-align: middle;\n",
       "    }\n",
       "\n",
       "    .dataframe tbody tr th {\n",
       "        vertical-align: top;\n",
       "    }\n",
       "\n",
       "    .dataframe thead th {\n",
       "        text-align: right;\n",
       "    }\n",
       "</style>\n",
       "<table border=\"1\" class=\"dataframe\">\n",
       "  <thead>\n",
       "    <tr style=\"text-align: right;\">\n",
       "      <th></th>\n",
       "      <th>Pregnancies</th>\n",
       "      <th>Glucose</th>\n",
       "      <th>BloodPressure</th>\n",
       "      <th>SkinThickness</th>\n",
       "      <th>Insulin</th>\n",
       "      <th>BMI</th>\n",
       "      <th>DiabetesPedigreeFunction</th>\n",
       "      <th>Age</th>\n",
       "      <th>Outcome</th>\n",
       "    </tr>\n",
       "  </thead>\n",
       "  <tbody>\n",
       "    <tr>\n",
       "      <th>0</th>\n",
       "      <td>6</td>\n",
       "      <td>148</td>\n",
       "      <td>72</td>\n",
       "      <td>35</td>\n",
       "      <td>0</td>\n",
       "      <td>33.6</td>\n",
       "      <td>0.627</td>\n",
       "      <td>50</td>\n",
       "      <td>1</td>\n",
       "    </tr>\n",
       "    <tr>\n",
       "      <th>1</th>\n",
       "      <td>1</td>\n",
       "      <td>85</td>\n",
       "      <td>66</td>\n",
       "      <td>29</td>\n",
       "      <td>0</td>\n",
       "      <td>26.6</td>\n",
       "      <td>0.351</td>\n",
       "      <td>31</td>\n",
       "      <td>0</td>\n",
       "    </tr>\n",
       "    <tr>\n",
       "      <th>2</th>\n",
       "      <td>8</td>\n",
       "      <td>183</td>\n",
       "      <td>64</td>\n",
       "      <td>0</td>\n",
       "      <td>0</td>\n",
       "      <td>23.3</td>\n",
       "      <td>0.672</td>\n",
       "      <td>32</td>\n",
       "      <td>1</td>\n",
       "    </tr>\n",
       "    <tr>\n",
       "      <th>3</th>\n",
       "      <td>1</td>\n",
       "      <td>89</td>\n",
       "      <td>66</td>\n",
       "      <td>23</td>\n",
       "      <td>94</td>\n",
       "      <td>28.1</td>\n",
       "      <td>0.167</td>\n",
       "      <td>21</td>\n",
       "      <td>0</td>\n",
       "    </tr>\n",
       "    <tr>\n",
       "      <th>4</th>\n",
       "      <td>0</td>\n",
       "      <td>137</td>\n",
       "      <td>40</td>\n",
       "      <td>35</td>\n",
       "      <td>168</td>\n",
       "      <td>43.1</td>\n",
       "      <td>2.288</td>\n",
       "      <td>33</td>\n",
       "      <td>1</td>\n",
       "    </tr>\n",
       "  </tbody>\n",
       "</table>\n",
       "</div>"
      ],
      "text/plain": [
       "   Pregnancies  Glucose  BloodPressure  SkinThickness  Insulin   BMI  \\\n",
       "0            6      148             72             35        0  33.6   \n",
       "1            1       85             66             29        0  26.6   \n",
       "2            8      183             64              0        0  23.3   \n",
       "3            1       89             66             23       94  28.1   \n",
       "4            0      137             40             35      168  43.1   \n",
       "\n",
       "   DiabetesPedigreeFunction  Age  Outcome  \n",
       "0                     0.627   50        1  \n",
       "1                     0.351   31        0  \n",
       "2                     0.672   32        1  \n",
       "3                     0.167   21        0  \n",
       "4                     2.288   33        1  "
      ]
     },
     "execution_count": 5,
     "metadata": {},
     "output_type": "execute_result"
    }
   ],
   "source": [
    "data = pd.read_csv('pima-indians-diabetes-database.csv')\n",
    "print(data.shape)\n",
    "data.head()"
   ]
  },
  {
   "cell_type": "code",
   "execution_count": 6,
   "metadata": {},
   "outputs": [
    {
     "name": "stdout",
     "output_type": "stream",
     "text": [
      "<class 'pandas.core.frame.DataFrame'>\n",
      "RangeIndex: 768 entries, 0 to 767\n",
      "Data columns (total 9 columns):\n",
      "Pregnancies                 768 non-null int64\n",
      "Glucose                     768 non-null int64\n",
      "BloodPressure               768 non-null int64\n",
      "SkinThickness               768 non-null int64\n",
      "Insulin                     768 non-null int64\n",
      "BMI                         768 non-null float64\n",
      "DiabetesPedigreeFunction    768 non-null float64\n",
      "Age                         768 non-null int64\n",
      "Outcome                     768 non-null int64\n",
      "dtypes: float64(2), int64(7)\n",
      "memory usage: 54.1 KB\n"
     ]
    }
   ],
   "source": [
    "data.info()"
   ]
  },
  {
   "cell_type": "code",
   "execution_count": 7,
   "metadata": {},
   "outputs": [
    {
     "data": {
      "text/plain": [
       "0    500\n",
       "1    268\n",
       "Name: Outcome, dtype: int64"
      ]
     },
     "execution_count": 7,
     "metadata": {},
     "output_type": "execute_result"
    }
   ],
   "source": [
    "data['Outcome'].value_counts()"
   ]
  },
  {
   "cell_type": "code",
   "execution_count": 8,
   "metadata": {},
   "outputs": [
    {
     "name": "stdout",
     "output_type": "stream",
     "text": [
      "Size of random train set: 614\n",
      "Size of random test set: 154\n"
     ]
    }
   ],
   "source": [
    "train_set, test_set = train_test_split(data, test_size=0.2)\n",
    "print('Size of random train set: {}'.format(len(train_set)))\n",
    "print('Size of random test set: {}'.format(len(test_set)))"
   ]
  },
  {
   "cell_type": "code",
   "execution_count": 9,
   "metadata": {},
   "outputs": [
    {
     "data": {
      "text/plain": [
       "0    401\n",
       "1    213\n",
       "Name: Outcome, dtype: int64"
      ]
     },
     "execution_count": 9,
     "metadata": {},
     "output_type": "execute_result"
    }
   ],
   "source": [
    "train_set['Outcome'].value_counts()"
   ]
  },
  {
   "cell_type": "code",
   "execution_count": 10,
   "metadata": {},
   "outputs": [
    {
     "data": {
      "text/plain": [
       "0    99\n",
       "1    55\n",
       "Name: Outcome, dtype: int64"
      ]
     },
     "execution_count": 10,
     "metadata": {},
     "output_type": "execute_result"
    }
   ],
   "source": [
    "test_set['Outcome'].value_counts()"
   ]
  },
  {
   "cell_type": "code",
   "execution_count": 11,
   "metadata": {},
   "outputs": [],
   "source": [
    "X_train, Y_train = train_set.iloc[:,0:8], train_set.iloc[:,8]\n",
    "X_test, Y_test = test_set.iloc[:,0:8], test_set.iloc[:,8]"
   ]
  },
  {
   "cell_type": "markdown",
   "metadata": {},
   "source": [
    "***"
   ]
  },
  {
   "cell_type": "code",
   "execution_count": 12,
   "metadata": {},
   "outputs": [
    {
     "name": "stdout",
     "output_type": "stream",
     "text": [
      "[[401   0]\n",
      " [  0 213]]\n"
     ]
    }
   ],
   "source": [
    "tree_gini = DecisionTreeClassifier().fit(X_train, Y_train)\n",
    "tree_gini_predictions = tree_gini.predict(X_train)\n",
    "print(confusion_matrix(Y_train, tree_gini_predictions))"
   ]
  },
  {
   "cell_type": "code",
   "execution_count": 13,
   "metadata": {},
   "outputs": [],
   "source": [
    "labels = list(map(str, Y_train))\n",
    "\n",
    "export_graphviz(\n",
    "                tree_gini,\n",
    "                out_file=\"diabetes_decision_tree.dot\",\n",
    "                feature_names=X_train.columns,\n",
    "                class_names=labels,\n",
    "                rounded=True,\n",
    "                filled=True\n",
    ")"
   ]
  },
  {
   "cell_type": "code",
   "execution_count": 14,
   "metadata": {},
   "outputs": [
    {
     "name": "stdout",
     "output_type": "stream",
     "text": [
      "Index(['Pregnancies', 'Glucose', 'BloodPressure', 'SkinThickness', 'Insulin',\n",
      "       'BMI', 'DiabetesPedigreeFunction', 'Age'],\n",
      "      dtype='object')\n",
      "\n",
      "[0.06187514 0.32437721 0.06033859 0.07872537 0.05749064 0.16878958\n",
      " 0.1384194  0.10998406]\n"
     ]
    }
   ],
   "source": [
    "print(X_train.columns, tree_gini.feature_importances_, sep='\\n\\n')"
   ]
  },
  {
   "cell_type": "code",
   "execution_count": 15,
   "metadata": {},
   "outputs": [
    {
     "name": "stdout",
     "output_type": "stream",
     "text": [
      "[[72 27]\n",
      " [25 30]]\n"
     ]
    }
   ],
   "source": [
    "tree_gini_predictions = tree_gini.predict(X_test)\n",
    "print(confusion_matrix(Y_test, tree_gini_predictions))"
   ]
  },
  {
   "cell_type": "markdown",
   "metadata": {},
   "source": [
    "***"
   ]
  },
  {
   "cell_type": "code",
   "execution_count": 16,
   "metadata": {},
   "outputs": [
    {
     "name": "stdout",
     "output_type": "stream",
     "text": [
      "[[401   0]\n",
      " [  0 213]]\n"
     ]
    }
   ],
   "source": [
    "tree_entropy = DecisionTreeClassifier(criterion='entropy').fit(X_train, Y_train)\n",
    "tree_entropy_predictions = tree_entropy.predict(X_train)\n",
    "print(confusion_matrix(Y_train, tree_entropy_predictions))"
   ]
  },
  {
   "cell_type": "code",
   "execution_count": 17,
   "metadata": {},
   "outputs": [],
   "source": [
    "export_graphviz(\n",
    "                tree_entropy,\n",
    "                out_file=\"diabetes_entropy_tree.dot\",\n",
    "                feature_names=X_train.columns,\n",
    "                class_names=labels,\n",
    "                rounded=True,\n",
    "                filled=True\n",
    ")"
   ]
  },
  {
   "cell_type": "code",
   "execution_count": 18,
   "metadata": {},
   "outputs": [
    {
     "name": "stdout",
     "output_type": "stream",
     "text": [
      "Index(['Pregnancies', 'Glucose', 'BloodPressure', 'SkinThickness', 'Insulin',\n",
      "       'BMI', 'DiabetesPedigreeFunction', 'Age'],\n",
      "      dtype='object')\n",
      "\n",
      "[0.09568968 0.29012917 0.0580803  0.03120682 0.05304177 0.1717931\n",
      " 0.11904587 0.1810133 ]\n"
     ]
    }
   ],
   "source": [
    "print(X_train.columns, tree_entropy.feature_importances_, sep='\\n\\n')"
   ]
  },
  {
   "cell_type": "code",
   "execution_count": 19,
   "metadata": {},
   "outputs": [
    {
     "name": "stdout",
     "output_type": "stream",
     "text": [
      "[[77 22]\n",
      " [20 35]]\n"
     ]
    }
   ],
   "source": [
    "tree_entropy_predictions = tree_entropy.predict(X_test)\n",
    "print(confusion_matrix(Y_test, tree_entropy_predictions))"
   ]
  },
  {
   "cell_type": "code",
   "execution_count": 20,
   "metadata": {},
   "outputs": [
    {
     "name": "stderr",
     "output_type": "stream",
     "text": [
      "C:\\Anaconda3\\lib\\site-packages\\sklearn\\preprocessing\\data.py:645: DataConversionWarning: Data with input dtype int64, float64 were all converted to float64 by StandardScaler.\n",
      "  return self.partial_fit(X, y)\n",
      "C:\\Anaconda3\\lib\\site-packages\\sklearn\\base.py:464: DataConversionWarning: Data with input dtype int64, float64 were all converted to float64 by StandardScaler.\n",
      "  return self.fit(X, **fit_params).transform(X)\n"
     ]
    },
    {
     "data": {
      "image/png": "[encoded data removed]",
      "text/plain": [
       "<Figure size 1080x720 with 2 Axes>"
      ]
     },
     "metadata": {
      "needs_background": "light"
     },
     "output_type": "display_data"
    }
   ],
   "source": [
    "X = StandardScaler().fit_transform(data.iloc[:, 0:-1])\n",
    "pca = PCA(n_components=2)\n",
    "pca_components = pca.fit_transform(X)\n",
    "\n",
    "def classify_and_plot_decision_boundaries():\n",
    "    \n",
    "    gini_plots = { 0 : ([], []), 1 : ([], []) }\n",
    "    entropy_plots = { 0 : ([], []), 1 : ([], []) }\n",
    "    markers = { 0 : \"o\", 1 : \"s\" }\n",
    "    colors  = { 0 : \"r\", 1 : \"b\" }\n",
    "    labels = { 0: \"Negative\", 1: \"Positive\" }\n",
    "    \n",
    "    min_pc1, max_pc1 = int(np.min(pca_components[:, 0])), int(np.max(pca_components[:, 0]))\n",
    "    min_pc2, max_pc2 = int(np.min(pca_components[:, 1])), int(np.max(pca_components[:, 1]))\n",
    "\n",
    "    tree_gini = DecisionTreeClassifier().fit(pca_components, data.iloc[:, -1])\n",
    "    tree_entropy = DecisionTreeClassifier(criterion='entropy').fit(pca_components, data.iloc[:, -1])\n",
    "    \n",
    "    for pc1_ in np.linspace(min_pc1, max_pc1, 120):\n",
    "        for pc2_ in np.linspace(min_pc2, max_pc2, 120):\n",
    "            gini_predicted_label = tree_gini.predict(np.expand_dims(np.array([pc1_, pc2_]), axis=0))\n",
    "            entropy_predicted_label = tree_entropy.predict(np.expand_dims(np.array([pc1_, pc2_]), axis=0))\n",
    "            gini_plots[gini_predicted_label[0]][0].append(pc1_)\n",
    "            gini_plots[gini_predicted_label[0]][1].append(pc2_)\n",
    "            entropy_plots[entropy_predicted_label[0]][0].append(pc1_)\n",
    "            entropy_plots[entropy_predicted_label[0]][1].append(pc2_)\n",
    "\n",
    "    plt.figure(figsize=(15,10))\n",
    "    \n",
    "    plt.subplot(1,2,1)\n",
    "    for label, (x, y) in gini_plots.items():\n",
    "        plt.scatter(x, y, color=colors[label], marker=markers[label],\n",
    "                          label=labels[label], zorder=0)\n",
    "    plt.legend(loc=0)\n",
    "    plt.title('Decision Boundaries using Gini.')\n",
    "    plt.xlabel('PC1')\n",
    "    plt.ylabel('PC2')\n",
    "    \n",
    "    plt.subplot(1,2,2)\n",
    "    for label, (x, y) in entropy_plots.items():\n",
    "        plt.scatter(x, y, color=colors[label], marker=markers[label],\n",
    "                          label=labels[label], zorder=0)\n",
    "    plt.legend(loc=0)\n",
    "    plt.title('Decision Boundaries using Entropy.')\n",
    "    plt.xlabel('PC1')\n",
    "    plt.ylabel('PC2')\n",
    "    \n",
    "    plt.show()\n",
    "\n",
    "\n",
    "classify_and_plot_decision_boundaries()       "
   ]
  },
  {
   "cell_type": "markdown",
   "metadata": {},
   "source": [
    "***\n",
    "***"
   ]
  },
  {
   "cell_type": "code",
   "execution_count": 21,
   "metadata": {},
   "outputs": [
    {
     "name": "stdout",
     "output_type": "stream",
     "text": [
      "[[90  9]\n",
      " [28 27]]\n"
     ]
    }
   ],
   "source": [
    "forest_entropy = RandomForestClassifier(criterion='entropy').fit(X_train, Y_train)\n",
    "forest_entropy_predictions = forest_entropy.predict(X_test)\n",
    "print(confusion_matrix(Y_test, forest_entropy_predictions))"
   ]
  },
  {
   "cell_type": "code",
   "execution_count": 22,
   "metadata": {},
   "outputs": [
    {
     "name": "stdout",
     "output_type": "stream",
     "text": [
      "[[91  8]\n",
      " [31 24]]\n"
     ]
    }
   ],
   "source": [
    "forest_gini = RandomForestClassifier(criterion='gini').fit(X_train, Y_train)\n",
    "forest_gini_predictions = forest_gini.predict(X_test)\n",
    "print(confusion_matrix(Y_test, forest_gini_predictions))"
   ]
  },
  {
   "cell_type": "code",
   "execution_count": 23,
   "metadata": {},
   "outputs": [
    {
     "name": "stderr",
     "output_type": "stream",
     "text": [
      "C:\\Anaconda3\\lib\\site-packages\\sklearn\\preprocessing\\data.py:645: DataConversionWarning: Data with input dtype int64, float64 were all converted to float64 by StandardScaler.\n",
      "  return self.partial_fit(X, y)\n",
      "C:\\Anaconda3\\lib\\site-packages\\sklearn\\base.py:464: DataConversionWarning: Data with input dtype int64, float64 were all converted to float64 by StandardScaler.\n",
      "  return self.fit(X, **fit_params).transform(X)\n"
     ]
    },
    {
     "data": {
      "image/png": "[encoded data removed]",
      "text/plain": [
       "<Figure size 1080x720 with 2 Axes>"
      ]
     },
     "metadata": {
      "needs_background": "light"
     },
     "output_type": "display_data"
    }
   ],
   "source": [
    "X = StandardScaler().fit_transform(data.iloc[:, 0:-1])\n",
    "pca = PCA(n_components=2)\n",
    "pca_components = pca.fit_transform(X)\n",
    "\n",
    "def classify_and_plot_decision_boundaries():\n",
    "    \n",
    "    gini_plots = { 0 : ([], []), 1 : ([], []) }\n",
    "    entropy_plots = { 0 : ([], []), 1 : ([], []) }\n",
    "    markers = { 0 : \"o\", 1 : \"s\" }\n",
    "    colors  = { 0 : \"r\", 1 : \"b\" }\n",
    "    labels = { 0: \"Negative\", 1: \"Positive\" }\n",
    "    \n",
    "    min_pc1, max_pc1 = int(np.min(pca_components[:, 0])), int(np.max(pca_components[:, 0]))\n",
    "    min_pc2, max_pc2 = int(np.min(pca_components[:, 1])), int(np.max(pca_components[:, 1]))\n",
    "\n",
    "    tree_gini = RandomForestClassifier(criterion='gini').fit(pca_components, data.iloc[:, -1])\n",
    "    tree_entropy = RandomForestClassifier(criterion='entropy').fit(pca_components, data.iloc[:, -1])\n",
    "    \n",
    "    for pc1_ in np.linspace(min_pc1, max_pc1, 120):\n",
    "        for pc2_ in np.linspace(min_pc2, max_pc2, 120):\n",
    "            gini_predicted_label = tree_gini.predict(np.expand_dims(np.array([pc1_, pc2_]), axis=0))\n",
    "            entropy_predicted_label = tree_entropy.predict(np.expand_dims(np.array([pc1_, pc2_]), axis=0))\n",
    "            gini_plots[gini_predicted_label[0]][0].append(pc1_)\n",
    "            gini_plots[gini_predicted_label[0]][1].append(pc2_)\n",
    "            entropy_plots[entropy_predicted_label[0]][0].append(pc1_)\n",
    "            entropy_plots[entropy_predicted_label[0]][1].append(pc2_)\n",
    "\n",
    "    plt.figure(figsize=(15,10))\n",
    "    \n",
    "    plt.subplot(1,2,1)\n",
    "    for label, (x, y) in gini_plots.items():\n",
    "        plt.scatter(x, y, color=colors[label], marker=markers[label],\n",
    "                          label=labels[label], zorder=0)\n",
    "    plt.legend(loc=0)\n",
    "    plt.title('Decision Boundaries using Gini.')\n",
    "    plt.xlabel('PC1')\n",
    "    plt.ylabel('PC2')\n",
    "    \n",
    "    plt.subplot(1,2,2)\n",
    "    for label, (x, y) in entropy_plots.items():\n",
    "        plt.scatter(x, y, color=colors[label], marker=markers[label],\n",
    "                          label=labels[label], zorder=0)\n",
    "    plt.legend(loc=0)\n",
    "    plt.title('Decision Boundaries using Entropy.')\n",
    "    plt.xlabel('PC1')\n",
    "    plt.ylabel('PC2')\n",
    "    \n",
    "    plt.show()\n",
    "\n",
    "\n",
    "classify_and_plot_decision_boundaries()"
   ]
  }
 ],
 "metadata": {
  "kernelspec": {
   "display_name": "Python 3",
   "language": "python",
   "name": "python3"
  },
  "language_info": {
   "codemirror_mode": {
    "name": "ipython",
    "version": 3
   },
   "file_extension": ".py",
   "mimetype": "text/x-python",
   "name": "python",
   "nbconvert_exporter": "python",
   "pygments_lexer": "ipython3",
   "version": "3.7.6"
  }
 },
 "nbformat": 4,
 "nbformat_minor": 2
}
