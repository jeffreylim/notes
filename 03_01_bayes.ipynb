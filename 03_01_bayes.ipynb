{
 "cells": [
  {
   "cell_type": "markdown",
   "metadata": {},
   "source": [
    "<div class=\"alert alert-block alert-danger\">\n",
    "    \n",
    "### Notes\n",
    "\n",
    "</div>\n",
    "\n",
    "### Naive Bayes, Discriminant Analysis, Numerical python, $ \\ldots $."
   ]
  },
  {
   "cell_type": "markdown",
   "metadata": {},
   "source": [
    "<hr/>\n",
    "\n",
    "#### Naive Bayes\n",
    "\n",
    "\n",
    "Let $ \\mathbf{x} \\in \\mathbb{R}^{n}$ and $ \\{ C_k \\}_{k=1}^m $ be the set of outcomes.\n",
    "\n",
    "Assuming mutual independence in $\\mathbf{x}$, $ P(C_k \\mid \\mathbf{x}) = \\frac{P(C_k, \\mathbf{x})}{P(\\mathbf{x})} \\propto P(\\mathbf{x}, C_k) \\propto P(C_k) \\Pi^n_{i=1} P(x_i \\mid C_k) $\n",
    "\n",
    "Maximum a posteriori, $argmax_{\\forall{k}} \\{ P(C_k) \\Pi^n_{i=1} P(x_i \\mid C_k) \\} $\n",
    "\n",
    "Useful distributions : {gaussian naive bayes, bernoulli naive bayes, multinomial naive bayes}\n",
    "\n",
    "Gaussian Bayes:\n",
    "\n",
    "$P(\\mathbf{x} \\mid C_k)\n",
    "= (2 \\pi)^{-\\frac{n}{2}} \\| \\Sigma_{C_k} \\|^{-\\frac{1}{2}} e^{-\\frac{1}{2}(\\mathbf{x}-\\mu_{C_k})^T \\sum_{C_k}^{-1}(\\mathbf{x}-\\mu_{C_k}) }$"
   ]
  },
  {
   "cell_type": "code",
   "execution_count": 1,
   "metadata": {},
   "outputs": [],
   "source": [
    "%matplotlib inline"
   ]
  },
  {
   "cell_type": "code",
   "execution_count": 2,
   "metadata": {},
   "outputs": [],
   "source": [
    "import numpy as np\n",
    "import pandas as pd\n",
    "import matplotlib.pyplot as plt\n",
    "import seaborn as sns"
   ]
  },
  {
   "cell_type": "code",
   "execution_count": 3,
   "metadata": {},
   "outputs": [],
   "source": [
    "import warnings\n",
    "warnings.filterwarnings('ignore')\n",
    "\n",
    "plt.close('all')\n",
    "np.random.seed(1234)"
   ]
  },
  {
   "cell_type": "code",
   "execution_count": 4,
   "metadata": {},
   "outputs": [],
   "source": [
    "from sklearn.naive_bayes import GaussianNB\n",
    "from sklearn.metrics import confusion_matrix\n",
    "from sklearn import datasets"
   ]
  },
  {
   "cell_type": "markdown",
   "metadata": {},
   "source": [
    "***"
   ]
  },
  {
   "cell_type": "code",
   "execution_count": 5,
   "metadata": {},
   "outputs": [],
   "source": [
    "data = datasets.load_iris()\n",
    "X, Y = data.data, data.target"
   ]
  },
  {
   "cell_type": "code",
   "execution_count": 6,
   "metadata": {},
   "outputs": [
    {
     "name": "stdout",
     "output_type": "stream",
     "text": [
      "[[50  0  0]\n",
      " [ 0 47  3]\n",
      " [ 0  3 47]]\n"
     ]
    }
   ],
   "source": [
    "gnb = GaussianNB().fit(X, Y)\n",
    "gnb_predicts = gnb.predict(X)\n",
    "\n",
    "print(confusion_matrix(Y, gnb_predicts))"
   ]
  },
  {
   "cell_type": "markdown",
   "metadata": {},
   "source": [
    "***"
   ]
  },
  {
   "cell_type": "code",
   "execution_count": 7,
   "metadata": {},
   "outputs": [
    {
     "data": {
      "image/png": "[encoded data removed]",
      "text/plain": [
       "<Figure size 576x576 with 1 Axes>"
      ]
     },
     "metadata": {
      "needs_background": "light"
     },
     "output_type": "display_data"
    }
   ],
   "source": [
    "def classify_and_plot_decision_boundaries():\n",
    "    \n",
    "    plots = { 0 : ([], []), 1 : ([], []), 2 : ([], []) }\n",
    "    markers = { 0 : \"o\", 1 : \"s\", 2 : \"^\" }\n",
    "    colors  = { 0 : \"r\", 1 : \"b\", 2 : \"g\" }\n",
    "    \n",
    "    min_sepal_length, max_sepal_length = int(np.min(X[:, 0])), int(np.max(X[:, 0]))\n",
    "    min_sepal_width, max_sepal_width = int(np.min(X[:, 1])), int(np.max(X[:, 1]))\n",
    "\n",
    "    gnb = GaussianNB().fit(X[:,[0,1]], Y)\n",
    "    \n",
    "    for sepal_length in np.linspace(min_sepal_length, max_sepal_length, 100):\n",
    "        for sepal_width in np.linspace(min_sepal_width, max_sepal_width, 100):\n",
    "            predicted_label = gnb.predict(np.expand_dims(np.array([sepal_length, sepal_width]), axis=0))\n",
    "            plots[predicted_label[0]][0].append(sepal_length)\n",
    "            plots[predicted_label[0]][1].append(sepal_width)\n",
    "\n",
    "    plt.figure(figsize=(8,8))\n",
    "    for label, (x, y) in plots.items():\n",
    "        plt.scatter(x, y, color=colors[label], marker=markers[label],\n",
    "                          label=data.target_names[label], zorder=0)\n",
    "\n",
    "    plt.legend(loc=0)\n",
    "    plt.title('Decision Boundaries for Naive Bayes.')\n",
    "    plt.xlabel('Sepal Length')\n",
    "    plt.ylabel('Sepal Width')\n",
    "    plt.show()\n",
    "\n",
    "\n",
    "classify_and_plot_decision_boundaries()            "
   ]
  },
  {
   "cell_type": "markdown",
   "metadata": {},
   "source": [
    "<hr/>\n",
    "\n",
    "#### Bayes\n",
    "\n",
    "Let $ \\mathbf{x} \\in \\mathbb{R}^{n}$ and $ \\{ C_k \\}_{k=1}^m $ be the set of outcomes.\n",
    "\n",
    "\\begin{align}\n",
    "P( C_k \\mid \\mathbf{x}) &= \\frac{P(\\mathbf{x} \\mid C_k)P(C_k)}{P(\\mathbf{x})} \\\\\n",
    "&\\propto P(\\mathbf{x} \\mid C_k) P(C_k)\n",
    "\\end{align}\n",
    "\n",
    "\n",
    "\n",
    "#### Linear Discriminant Analysis classifier (homogeneous variance-covariance $\\Sigma_k = \\Sigma, \\forall{k}$)\n",
    "\n",
    "\\begin{align}\n",
    "P(\\mathbf{x} \\mid C_k)\n",
    "&= (2 \\pi)^{-\\frac{n}{2}} \\| \\Sigma \\|^{-\\frac{1}{2}} e^{-\\frac{1}{2}(\\mathbf{x}-\\mu_{C_k})^T \\sum^{-1}(\\mathbf{x}-\\mu_{C_k}) }\n",
    "\\end{align}\n",
    "\n",
    "<br>\n",
    "\n",
    "\\begin{align}\n",
    "log(P(\\mathbf{x} \\mid C_k) P(C_k)) \n",
    "&= log(P(\\mathbf{x} \\mid C_k)) + log(P(C_k)) \\\\\n",
    "&=(-\\frac{n}{2})log(2\\pi) - \\frac{1}{2} log(\\| \\Sigma \\|)-\\frac{1}{2}(\\mathbf{x}-\\mu_k)^T \\Sigma^{-1} (\\mathbf{x}-\\mu_k) + log(P(C_k)) \n",
    "\\\\\n",
    "&\\propto -\\frac{1}{2} (\\mathbf{x}-\\mu_k)^T \\Sigma^{-1} (\\mathbf{x}-\\mu_k) + log(P(C_k)) \\\\\n",
    "&\\propto -\\frac{1}{2}[(\\mathbf{x}^T \\Sigma^{-1} - \\mu^T_{k} \\Sigma^{-1}) (\\mathbf{x}-\\mu_k)] + log(P(C_k)) \\\\\n",
    "&= -\\frac{1}{2}[\\mathbf{x}^T \\Sigma^{-1} \\mathbf{x} - \\mathbf{x}^T \\Sigma^{-1} \\mu_k - \\mu^T_k \\Sigma^{-1} \\mathbf{x} + \\mu^T_k \\Sigma^{-1} \\mu_k] + log(P(C_k)) \\\\\n",
    "&= -\\frac{1}{2}[\\mathbf{x}^T \\Sigma^{-1} \\mathbf{x} - \\mathbf{x}^T \\Sigma^{-1} \\mu_k - \\mathbf{x}^T \\Sigma^{-1} \\mu_k + \\mu^T_k \\Sigma^{-1} \\mu_k] + log(P(C_k)) \\\\\n",
    "&= -\\frac{1}{2}[ \\mathbf{x}^T \\Sigma^{-1} \\mathbf{x} - 2 \\mathbf{x}^T \\Sigma^{-1} \\mathbf{\\mu}_k + \\mathbf{\\mu}^T_k \\Sigma^{-1} \\mathbf{\\mu}_k ] + log(P(C_k)) \\\\\n",
    "&= -\\frac{1}{2} \\mathbf{x}^T \\Sigma^{-1} \\mathbf{x} +\\mathbf{x}^T \\Sigma^{-1} \\mathbf{\\mu}_k- \\frac{1}{2} \\mathbf{\\mu}^T_k \\Sigma^{-1} \\mathbf{\\mu}_k + log(P(C_k)) \\\\\n",
    "&\\propto \\mathbf{x}^T \\Sigma^{-1} \\mathbf{\\mu}_k - \\frac{1}{2} \\mathbf{\\mu}^T_k \\Sigma^{-1} \\mathbf{\\mu}_k + log(P(C_k))\n",
    "\\end{align}\n",
    "\n",
    "\n",
    "\\begin{align}\n",
    "WTS: \\arg\\max_{\\forall_k} \\{ \\mathbf{x}^T \\Sigma^{-1} \\mathbf{\\mu}_k - \\frac{1}{2} \\mathbf{\\mu}^T_k \\Sigma^{-1} \\mathbf{\\mu}_k + log(P(C_k)) \\}\n",
    "\\end{align}\n",
    "\n",
    "\n",
    "#### Quadratic Discriminant Analysis classifier (heterogeneous variance-covariance)\n",
    "\n",
    "\\begin{align}\n",
    "log(P(\\mathbf{x} \\mid C_k) P(C_k)) \n",
    "&= log(P(\\mathbf{x} \\mid C_k)) + log(P(C_k)) \\\\\n",
    "&=(-\\frac{n}{2})log(2\\pi) - \\frac{1}{2} log(\\| \\Sigma_k \\|) -\\frac{1}{2}(\\mathbf{x}-\\mu_k)^T \\Sigma^{-1}_k (\\mathbf{x}-\\mu_k) + log(P(C_k)) \\\\\n",
    "&\\propto -\\frac{1}{2} log \\| \\Sigma_k \\| -\\frac{1}{2} (\\mathbf{x} - \\mathbf{\\mu}_k)^T \\Sigma^{-1}_k (\\mathbf{x}-\\mathbf{\\mu}_k) + log(P(C_k))\n",
    "\\end{align}\n",
    "\n",
    "***"
   ]
  },
  {
   "cell_type": "code",
   "execution_count": 8,
   "metadata": {},
   "outputs": [],
   "source": [
    "from sklearn.discriminant_analysis import LinearDiscriminantAnalysis, QuadraticDiscriminantAnalysis"
   ]
  },
  {
   "cell_type": "code",
   "execution_count": 9,
   "metadata": {},
   "outputs": [
    {
     "name": "stdout",
     "output_type": "stream",
     "text": [
      "[[50  0  0]\n",
      " [ 0 48  2]\n",
      " [ 0  1 49]]\n"
     ]
    }
   ],
   "source": [
    "lda = LinearDiscriminantAnalysis(store_covariance=True).fit(X, Y)\n",
    "lda_predicts = lda.predict(X)\n",
    "\n",
    "print(confusion_matrix(Y, lda_predicts))"
   ]
  },
  {
   "cell_type": "code",
   "execution_count": 10,
   "metadata": {},
   "outputs": [
    {
     "data": {
      "text/plain": [
       "array([[0.259708  , 0.09086667, 0.164164  , 0.03763333],\n",
       "       [0.09086667, 0.11308   , 0.05413867, 0.032056  ],\n",
       "       [0.164164  , 0.05413867, 0.181484  , 0.041812  ],\n",
       "       [0.03763333, 0.032056  , 0.041812  , 0.041044  ]])"
      ]
     },
     "execution_count": 10,
     "metadata": {},
     "output_type": "execute_result"
    }
   ],
   "source": [
    "lda.covariance_"
   ]
  },
  {
   "cell_type": "code",
   "execution_count": 11,
   "metadata": {},
   "outputs": [
    {
     "name": "stdout",
     "output_type": "stream",
     "text": [
      "[[50  0  0]\n",
      " [ 0 48  2]\n",
      " [ 0  1 49]]\n"
     ]
    }
   ],
   "source": [
    "qda = QuadraticDiscriminantAnalysis(store_covariance=True).fit(X, Y)\n",
    "qda_predicts = qda.predict(X)\n",
    "\n",
    "print(confusion_matrix(Y, qda_predicts))"
   ]
  },
  {
   "cell_type": "code",
   "execution_count": 12,
   "metadata": {},
   "outputs": [
    {
     "data": {
      "text/plain": [
       "[array([[0.12424898, 0.09921633, 0.0163551 , 0.01033061],\n",
       "        [0.09921633, 0.1436898 , 0.01169796, 0.00929796],\n",
       "        [0.0163551 , 0.01169796, 0.03015918, 0.00606939],\n",
       "        [0.01033061, 0.00929796, 0.00606939, 0.01110612]]),\n",
       " array([[0.26643265, 0.08518367, 0.18289796, 0.05577959],\n",
       "        [0.08518367, 0.09846939, 0.08265306, 0.04120408],\n",
       "        [0.18289796, 0.08265306, 0.22081633, 0.07310204],\n",
       "        [0.05577959, 0.04120408, 0.07310204, 0.03910612]]),\n",
       " array([[0.40434286, 0.09376327, 0.3032898 , 0.04909388],\n",
       "        [0.09376327, 0.10400408, 0.07137959, 0.04762857],\n",
       "        [0.3032898 , 0.07137959, 0.30458776, 0.04882449],\n",
       "        [0.04909388, 0.04762857, 0.04882449, 0.07543265]])]"
      ]
     },
     "execution_count": 12,
     "metadata": {},
     "output_type": "execute_result"
    }
   ],
   "source": [
    "qda.covariance_"
   ]
  },
  {
   "cell_type": "code",
   "execution_count": 13,
   "metadata": {},
   "outputs": [
    {
     "name": "stdout",
     "output_type": "stream",
     "text": [
      "[[0.12424898 0.09921633 0.0163551  0.01033061]\n",
      " [0.09921633 0.1436898  0.01169796 0.00929796]\n",
      " [0.0163551  0.01169796 0.03015918 0.00606939]\n",
      " [0.01033061 0.00929796 0.00606939 0.01110612]]\n",
      "\n",
      "[[0.26643265 0.08518367 0.18289796 0.05577959]\n",
      " [0.08518367 0.09846939 0.08265306 0.04120408]\n",
      " [0.18289796 0.08265306 0.22081633 0.07310204]\n",
      " [0.05577959 0.04120408 0.07310204 0.03910612]]\n",
      "\n",
      "[[0.40434286 0.09376327 0.3032898  0.04909388]\n",
      " [0.09376327 0.10400408 0.07137959 0.04762857]\n",
      " [0.3032898  0.07137959 0.30458776 0.04882449]\n",
      " [0.04909388 0.04762857 0.04882449 0.07543265]]\n"
     ]
    }
   ],
   "source": [
    "set_covmatrix, ver_covmatrix, vir_covmatrix = np.cov(X[Y==0], rowvar=0), np.cov(X[Y==1], rowvar=0), np.cov(X[Y==2], rowvar=0)\n",
    "print(set_covmatrix, ver_covmatrix, vir_covmatrix, sep='\\n\\n')"
   ]
  },
  {
   "cell_type": "markdown",
   "metadata": {},
   "source": [
    "***"
   ]
  },
  {
   "cell_type": "code",
   "execution_count": 14,
   "metadata": {},
   "outputs": [
    {
     "data": {
      "image/png": "[encoded data removed]",
      "text/plain": [
       "<Figure size 1080x720 with 2 Axes>"
      ]
     },
     "metadata": {
      "needs_background": "light"
     },
     "output_type": "display_data"
    }
   ],
   "source": [
    "def classify_and_plot_decision_boundaries():\n",
    "    \n",
    "    lda_plots = { 0 : ([], []), 1 : ([], []), 2 : ([], []) }\n",
    "    qda_plots = { 0 : ([], []), 1 : ([], []), 2 : ([], []) }\n",
    "    markers = { 0 : \"o\", 1 : \"s\", 2 : \"^\" }\n",
    "    colors  = { 0 : \"r\", 1 : \"b\", 2 : \"g\" }\n",
    "    \n",
    "    min_sepal_length, max_sepal_length = int(np.min(X[:, 0])), int(np.max(X[:, 0]))\n",
    "    min_sepal_width, max_sepal_width = int(np.min(X[:, 1])), int(np.max(X[:, 1]))\n",
    "\n",
    "    lda = LinearDiscriminantAnalysis(store_covariance=False).fit(X[:,[0,1]], Y)\n",
    "    qda = QuadraticDiscriminantAnalysis(store_covariance=False).fit(X[:,[0,1]], Y)\n",
    "    \n",
    "    for sepal_length in np.linspace(min_sepal_length, max_sepal_length, 120):\n",
    "        for sepal_width in np.linspace(min_sepal_width, max_sepal_width, 120):\n",
    "            lda_predicted_label = lda.predict(np.expand_dims(np.array([sepal_length, sepal_width]), axis=0))\n",
    "            qda_predicted_label = qda.predict(np.expand_dims(np.array([sepal_length, sepal_width]), axis=0))\n",
    "            lda_plots[lda_predicted_label[0]][0].append(sepal_length)\n",
    "            lda_plots[lda_predicted_label[0]][1].append(sepal_width)\n",
    "            qda_plots[qda_predicted_label[0]][0].append(sepal_length)\n",
    "            qda_plots[qda_predicted_label[0]][1].append(sepal_width)\n",
    "\n",
    "    plt.figure(figsize=(15,10))\n",
    "    \n",
    "    plt.subplot(1,2,1)\n",
    "    for label, (x, y) in lda_plots.items():\n",
    "        plt.scatter(x, y, color=colors[label], marker=markers[label],\n",
    "                          label=data.target_names[label], zorder=0)\n",
    "    plt.legend(loc=0)\n",
    "    plt.title('Decision Boundaries for LDA.')\n",
    "    plt.xlabel('Sepal Length')\n",
    "    plt.ylabel('Sepal Width')\n",
    "    \n",
    "    plt.subplot(1,2,2)\n",
    "    for label, (x, y) in qda_plots.items():\n",
    "        plt.scatter(x, y, color=colors[label], marker=markers[label],\n",
    "                          label=data.target_names[label], zorder=0)\n",
    "    plt.legend(loc=0)\n",
    "    plt.title('Decision Boundaries for QDA.')\n",
    "    plt.xlabel('Sepal Length')\n",
    "    plt.ylabel('Sepal Width')\n",
    "    \n",
    "    plt.show()\n",
    "\n",
    "\n",
    "classify_and_plot_decision_boundaries()            "
   ]
  }
 ],
 "metadata": {
  "kernelspec": {
   "display_name": "Python 3",
   "language": "python",
   "name": "python3"
  },
  "language_info": {
   "codemirror_mode": {
    "name": "ipython",
    "version": 3
   },
   "file_extension": ".py",
   "mimetype": "text/x-python",
   "name": "python",
   "nbconvert_exporter": "python",
   "pygments_lexer": "ipython3",
   "version": "3.7.6"
  }
 },
 "nbformat": 4,
 "nbformat_minor": 2
}
